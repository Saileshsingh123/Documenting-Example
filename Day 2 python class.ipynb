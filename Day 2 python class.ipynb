{
 "cells": [
  {
   "cell_type": "markdown",
   "id": "2e0674c6",
   "metadata": {},
   "source": [
    "# Day 2"
   ]
  },
  {
   "cell_type": "markdown",
   "id": "33394e7d",
   "metadata": {},
   "source": [
    "# Variables and Operators"
   ]
  },
  {
   "cell_type": "code",
   "execution_count": 1,
   "id": "ba7bf09c",
   "metadata": {},
   "outputs": [
    {
     "name": "stdout",
     "output_type": "stream",
     "text": [
      "1\n"
     ]
    }
   ],
   "source": [
    "a= 1\n",
    "print(a)"
   ]
  },
  {
   "cell_type": "code",
   "execution_count": 4,
   "id": "4059b0bd",
   "metadata": {},
   "outputs": [
    {
     "name": "stdout",
     "output_type": "stream",
     "text": [
      "2 2.3\n"
     ]
    }
   ],
   "source": [
    "b = 2\n",
    "c = 2.3\n",
    "print(b,c)"
   ]
  },
  {
   "cell_type": "code",
   "execution_count": 6,
   "id": "7b30d26f",
   "metadata": {},
   "outputs": [
    {
     "name": "stdout",
     "output_type": "stream",
     "text": [
      "apple\n"
     ]
    }
   ],
   "source": [
    "x = \"apple\"\n",
    "print(x)"
   ]
  },
  {
   "cell_type": "code",
   "execution_count": 8,
   "id": "055d8e4e",
   "metadata": {},
   "outputs": [
    {
     "name": "stdout",
     "output_type": "stream",
     "text": [
      "23\n"
     ]
    }
   ],
   "source": [
    "student = 23\n",
    "print(student)"
   ]
  },
  {
   "cell_type": "code",
   "execution_count": 9,
   "id": "861006e2",
   "metadata": {},
   "outputs": [
    {
     "name": "stdout",
     "output_type": "stream",
     "text": [
      "25\n"
     ]
    }
   ],
   "source": [
    "student123 = 25\n",
    "print(student123)"
   ]
  },
  {
   "cell_type": "code",
   "execution_count": 10,
   "id": "d206f107",
   "metadata": {},
   "outputs": [
    {
     "name": "stdout",
     "output_type": "stream",
     "text": [
      "5\n"
     ]
    }
   ],
   "source": [
    " _a = 5\n",
    "print(_a)"
   ]
  },
  {
   "cell_type": "markdown",
   "id": "42ba9e14",
   "metadata": {},
   "source": [
    "# many values to multiple variable "
   ]
  },
  {
   "cell_type": "code",
   "execution_count": 11,
   "id": "a4adaa16",
   "metadata": {},
   "outputs": [
    {
     "name": "stdout",
     "output_type": "stream",
     "text": [
      "orange banana cherry\n"
     ]
    }
   ],
   "source": [
    "x,y,z=  \"orange\",\"banana\",\"cherry\"\n",
    "print(x,y,z)"
   ]
  },
  {
   "cell_type": "code",
   "execution_count": 13,
   "id": "532ebbc7",
   "metadata": {},
   "outputs": [
    {
     "name": "stdout",
     "output_type": "stream",
     "text": [
      "orange\n",
      "orange\n",
      "orange\n"
     ]
    }
   ],
   "source": [
    "x=y=z= \"orange\"\n",
    "print(x)\n",
    "print(y)\n",
    "print(z)"
   ]
  },
  {
   "cell_type": "markdown",
   "id": "6a73f0b0",
   "metadata": {},
   "source": [
    "# python output variable "
   ]
  },
  {
   "cell_type": "code",
   "execution_count": 17,
   "id": "f50293f4",
   "metadata": {},
   "outputs": [
    {
     "name": "stdout",
     "output_type": "stream",
     "text": [
      "python is amazing\n",
      "\n",
      "python\n",
      "is\n",
      "amazing\n"
     ]
    }
   ],
   "source": [
    "x = \"python\"\n",
    "y = \"is\"\n",
    "z = \"amazing\"\n",
    "print(x,y,z)\n",
    "print()\n",
    "print(x)\n",
    "print(y)\n",
    "print(z)"
   ]
  },
  {
   "cell_type": "markdown",
   "id": "492e2762",
   "metadata": {},
   "source": [
    "# Data types"
   ]
  },
  {
   "cell_type": "code",
   "execution_count": 18,
   "id": "db09168a",
   "metadata": {},
   "outputs": [
    {
     "name": "stdout",
     "output_type": "stream",
     "text": [
      "2\n",
      "<class 'int'>\n"
     ]
    }
   ],
   "source": [
    "x = 2 \n",
    "print(x)\n",
    "print(type(x))"
   ]
  },
  {
   "cell_type": "code",
   "execution_count": 19,
   "id": "f126d181",
   "metadata": {},
   "outputs": [
    {
     "name": "stdout",
     "output_type": "stream",
     "text": [
      "4.5\n",
      "<class 'float'>\n"
     ]
    }
   ],
   "source": [
    "y = 4.5\n",
    "print(y)\n",
    "print(type(y))"
   ]
  },
  {
   "cell_type": "code",
   "execution_count": 20,
   "id": "0224ee0d",
   "metadata": {},
   "outputs": [
    {
     "name": "stdout",
     "output_type": "stream",
     "text": [
      "(3+5j)\n",
      "<class 'complex'>\n"
     ]
    }
   ],
   "source": [
    "z = 3+5j\n",
    "print(z)\n",
    "print(type(z))"
   ]
  },
  {
   "cell_type": "code",
   "execution_count": 21,
   "id": "8dd98dc6",
   "metadata": {},
   "outputs": [
    {
     "name": "stdout",
     "output_type": "stream",
     "text": [
      "This is the day 2 of python class\n",
      "<class 'str'>\n"
     ]
    }
   ],
   "source": [
    "a = \"This is the day 2 of python class\"\n",
    "print(a)\n",
    "print(type(a))"
   ]
  },
  {
   "cell_type": "code",
   "execution_count": 23,
   "id": "4863b858",
   "metadata": {},
   "outputs": [
    {
     "name": "stdout",
     "output_type": "stream",
     "text": [
      "[1, 2, 3, 4, 5, 6, 7, 8, 9, 10]\n",
      "<class 'list'>\n"
     ]
    }
   ],
   "source": [
    "b = [1,2,3,4,5,6,7,8,9,10]\n",
    "print(b)\n",
    "print(type(b))"
   ]
  },
  {
   "cell_type": "code",
   "execution_count": 24,
   "id": "62b4e2d7",
   "metadata": {},
   "outputs": [
    {
     "name": "stdout",
     "output_type": "stream",
     "text": [
      "(1, 2, 3, 4, 5, 6, 7, 8, 9, 10)\n",
      "<class 'tuple'>\n"
     ]
    }
   ],
   "source": [
    "c = (1,2,3,4,5,6,7,8,9,10)\n",
    "print(c)\n",
    "print(type(c))"
   ]
  },
  {
   "cell_type": "code",
   "execution_count": 25,
   "id": "667d0ba6",
   "metadata": {},
   "outputs": [
    {
     "name": "stdout",
     "output_type": "stream",
     "text": [
      "Variable     Type       Data/Info\n",
      "---------------------------------\n",
      "a            str        This is the day 2 of python class\n",
      "b            list       n=10\n",
      "c            tuple      n=10\n",
      "student      int        23\n",
      "student123   int        25\n",
      "studnet      int        23\n",
      "x            int        2\n",
      "y            float      4.5\n",
      "z            complex    (3+5j)\n"
     ]
    }
   ],
   "source": [
    "%whos\n"
   ]
  },
  {
   "cell_type": "markdown",
   "id": "13a12034",
   "metadata": {},
   "source": [
    "# Operator in Python"
   ]
  },
  {
   "cell_type": "code",
   "execution_count": 26,
   "id": "878d09f4",
   "metadata": {},
   "outputs": [
    {
     "name": "stdout",
     "output_type": "stream",
     "text": [
      "8\n"
     ]
    }
   ],
   "source": [
    "a = 5\n",
    "b = 3 \n",
    "print(a+b)"
   ]
  },
  {
   "cell_type": "code",
   "execution_count": 27,
   "id": "e4d21b11",
   "metadata": {},
   "outputs": [
    {
     "name": "stdout",
     "output_type": "stream",
     "text": [
      "7.3\n"
     ]
    }
   ],
   "source": [
    "a = 5\n",
    "b = 2.3\n",
    "print(a+b)"
   ]
  },
  {
   "cell_type": "code",
   "execution_count": 28,
   "id": "48ec9f82",
   "metadata": {},
   "outputs": [
    {
     "name": "stdout",
     "output_type": "stream",
     "text": [
      "(9+2j)\n"
     ]
    }
   ],
   "source": [
    "a = 5+2j\n",
    "b = 4 \n",
    "print(a+b)"
   ]
  },
  {
   "cell_type": "code",
   "execution_count": 31,
   "id": "7b1d0606",
   "metadata": {},
   "outputs": [
    {
     "name": "stdout",
     "output_type": "stream",
     "text": [
      "Hello Students\n"
     ]
    }
   ],
   "source": [
    "a = \"Hello\"\n",
    "b = \" Students\"\n",
    "print(a+ \"\" +b)"
   ]
  },
  {
   "cell_type": "markdown",
   "id": "c8322b0d",
   "metadata": {},
   "source": [
    "# Subtraction"
   ]
  },
  {
   "cell_type": "code",
   "execution_count": 32,
   "id": "4ac86a5b",
   "metadata": {},
   "outputs": [
    {
     "name": "stdout",
     "output_type": "stream",
     "text": [
      "5\n"
     ]
    }
   ],
   "source": [
    "a = 15 \n",
    "b = 10\n",
    "print(a-b)"
   ]
  },
  {
   "cell_type": "code",
   "execution_count": 33,
   "id": "f099a76f",
   "metadata": {},
   "outputs": [
    {
     "name": "stdout",
     "output_type": "stream",
     "text": [
      "4.5\n"
     ]
    }
   ],
   "source": [
    "a = 15 \n",
    "b = 10.5\n",
    "print(a-b)"
   ]
  },
  {
   "cell_type": "code",
   "execution_count": 34,
   "id": "4a11e9c0",
   "metadata": {},
   "outputs": [
    {
     "name": "stdout",
     "output_type": "stream",
     "text": [
      "(5+5j)\n"
     ]
    }
   ],
   "source": [
    "a = 15+5j\n",
    "b = 10\n",
    "print(a-b)"
   ]
  },
  {
   "cell_type": "code",
   "execution_count": 35,
   "id": "71c9a355",
   "metadata": {},
   "outputs": [
    {
     "ename": "TypeError",
     "evalue": "unsupported operand type(s) for -: 'str' and 'str'",
     "output_type": "error",
     "traceback": [
      "\u001b[1;31m---------------------------------------------------------------------------\u001b[0m",
      "\u001b[1;31mTypeError\u001b[0m                                 Traceback (most recent call last)",
      "Cell \u001b[1;32mIn[35], line 3\u001b[0m\n\u001b[0;32m      1\u001b[0m a \u001b[38;5;241m=\u001b[39m \u001b[38;5;124m\"\u001b[39m\u001b[38;5;124mHello\u001b[39m\u001b[38;5;124m\"\u001b[39m\n\u001b[0;32m      2\u001b[0m b \u001b[38;5;241m=\u001b[39m \u001b[38;5;124m\"\u001b[39m\u001b[38;5;124mStudents\u001b[39m\u001b[38;5;124m\"\u001b[39m\n\u001b[1;32m----> 3\u001b[0m \u001b[38;5;28mprint\u001b[39m(a \u001b[38;5;241m-\u001b[39m b)\n",
      "\u001b[1;31mTypeError\u001b[0m: unsupported operand type(s) for -: 'str' and 'str'"
     ]
    }
   ],
   "source": [
    "a = \"Hello\"\n",
    "b = \"Students\"\n",
    "print(a - b)"
   ]
  },
  {
   "cell_type": "markdown",
   "id": "7e871a7e",
   "metadata": {},
   "source": [
    "# Multiplication"
   ]
  },
  {
   "cell_type": "code",
   "execution_count": 36,
   "id": "af0cf901",
   "metadata": {},
   "outputs": [
    {
     "name": "stdout",
     "output_type": "stream",
     "text": [
      "840\n"
     ]
    }
   ],
   "source": [
    "a = 15\n",
    "b = 56\n",
    "print(a*b)"
   ]
  },
  {
   "cell_type": "code",
   "execution_count": 37,
   "id": "2b72f8cc",
   "metadata": {},
   "outputs": [
    {
     "name": "stdout",
     "output_type": "stream",
     "text": [
      "38.622620999999995\n"
     ]
    }
   ],
   "source": [
    "a = 5.689\n",
    "b = 6.789\n",
    "print(a*b)\n"
   ]
  },
  {
   "cell_type": "markdown",
   "id": "3ed0fb97",
   "metadata": {},
   "source": [
    "# Division"
   ]
  },
  {
   "cell_type": "code",
   "execution_count": 38,
   "id": "fc1496eb",
   "metadata": {},
   "outputs": [
    {
     "name": "stdout",
     "output_type": "stream",
     "text": [
      "2.0\n"
     ]
    }
   ],
   "source": [
    "a = 10\n",
    "b = 5\n",
    "print(a/b)"
   ]
  },
  {
   "cell_type": "markdown",
   "id": "63ceed16",
   "metadata": {},
   "source": [
    "# Modulous"
   ]
  },
  {
   "cell_type": "code",
   "execution_count": 39,
   "id": "dd885bd5",
   "metadata": {},
   "outputs": [
    {
     "name": "stdout",
     "output_type": "stream",
     "text": [
      "1\n"
     ]
    }
   ],
   "source": [
    "a = 19\n",
    "b = 3\n",
    "print(a%b)"
   ]
  },
  {
   "cell_type": "code",
   "execution_count": 40,
   "id": "fe3bdd4e",
   "metadata": {},
   "outputs": [
    {
     "name": "stdout",
     "output_type": "stream",
     "text": [
      "0\n"
     ]
    }
   ],
   "source": [
    "a = 12\n",
    "b = 4\n",
    "print(a%b)"
   ]
  },
  {
   "cell_type": "markdown",
   "id": "b769170e",
   "metadata": {},
   "source": [
    "# Exponent"
   ]
  },
  {
   "cell_type": "code",
   "execution_count": 44,
   "id": "4017b6ac",
   "metadata": {},
   "outputs": [
    {
     "name": "stdout",
     "output_type": "stream",
     "text": [
      "71162028433520217717099884851404495326786614148274137562533191244754226421072922193229393035406290047490322006127486170528820460414671897074184746917638236810663780872933871199771053029074871072046645088603300420278272474373361352870797685329285463690039885441075398107839063255747535400015566353549647882767414182717586010912021318113386679928289227315380064286145450539958069165193638416244911434618495833200180049949\n"
     ]
    }
   ],
   "source": [
    "a = 41256789\n",
    "print(a**55)"
   ]
  },
  {
   "cell_type": "code",
   "execution_count": 45,
   "id": "4ed34425",
   "metadata": {},
   "outputs": [
    {
     "name": "stdout",
     "output_type": "stream",
     "text": [
      "2.990489165920469e+196\n"
     ]
    }
   ],
   "source": [
    "a = ((859*78)+(78.256/89)+(856**67)+(145688-7526))\n",
    "print(a)"
   ]
  },
  {
   "cell_type": "markdown",
   "id": "db011e15",
   "metadata": {},
   "source": [
    "# BOOLEAN"
   ]
  },
  {
   "cell_type": "code",
   "execution_count": 51,
   "id": "c013eaf6",
   "metadata": {},
   "outputs": [
    {
     "name": "stdout",
     "output_type": "stream",
     "text": [
      "False\n"
     ]
    }
   ],
   "source": [
    "a = True\n",
    "b = False \n",
    "print(not(a))"
   ]
  },
  {
   "cell_type": "code",
   "execution_count": 52,
   "id": "70fb5a59",
   "metadata": {},
   "outputs": [
    {
     "name": "stdout",
     "output_type": "stream",
     "text": [
      "20637005.183908045\n"
     ]
    }
   ],
   "source": [
    "a = ((8922*2852)+(7821*222)-(25566*256)+(8281/87))\n",
    "print(a)"
   ]
  },
  {
   "cell_type": "markdown",
   "id": "a73cc459",
   "metadata": {},
   "source": [
    "# Revision"
   ]
  },
  {
   "cell_type": "code",
   "execution_count": 13,
   "id": "69c5f5fe",
   "metadata": {},
   "outputs": [
    {
     "name": "stdout",
     "output_type": "stream",
     "text": [
      "area of recatangle is 600\n",
      "my name is Prashant\n",
      "<class 'float'>\n",
      "<class 'bool'>\n"
     ]
    }
   ],
   "source": [
    "length_of_rectangle = 30 \n",
    "width_of_rectangle = 20\n",
    "user_name='Prashant'\n",
    "price = 54.36\n",
    "mybol= True\n",
    "print(f'area of recatangle is {length_of_rectangle * width_of_rectangle }')\n",
    "print(f'my name is {user_name}')\n",
    "print(type(price))\n",
    "print(type(mybol))\n"
   ]
  },
  {
   "cell_type": "code",
   "execution_count": 12,
   "id": "e8ac3673",
   "metadata": {},
   "outputs": [
    {
     "name": "stdout",
     "output_type": "stream",
     "text": [
      "<class 'int'>\n",
      "<class 'str'>\n"
     ]
    }
   ],
   "source": [
    "num1 =10\n",
    "num2='10'\n",
    "print(type(num1))\n",
    "print(type(num2))"
   ]
  },
  {
   "cell_type": "code",
   "execution_count": 14,
   "id": "16df78f8",
   "metadata": {},
   "outputs": [
    {
     "name": "stdout",
     "output_type": "stream",
     "text": [
      "32\n"
     ]
    }
   ],
   "source": [
    "a= 2\n",
    "b= 5\n",
    "print(a**b)"
   ]
  },
  {
   "cell_type": "code",
   "execution_count": 15,
   "id": "53d08a7c",
   "metadata": {},
   "outputs": [
    {
     "name": "stdout",
     "output_type": "stream",
     "text": [
      "3\n"
     ]
    }
   ],
   "source": [
    "print(10//3)"
   ]
  },
  {
   "cell_type": "code",
   "execution_count": 16,
   "id": "ea8cdc97",
   "metadata": {},
   "outputs": [
    {
     "name": "stdout",
     "output_type": "stream",
     "text": [
      "13.600000000000001\n"
     ]
    }
   ],
   "source": [
    "result= (2*(3+4)**2/5-6)\n",
    "print(result)"
   ]
  },
  {
   "cell_type": "code",
   "execution_count": 18,
   "id": "b10808b1",
   "metadata": {},
   "outputs": [
    {
     "name": "stdout",
     "output_type": "stream",
     "text": [
      "Pual Philip\n"
     ]
    }
   ],
   "source": [
    "#strings\n",
    "f_name='Pual'\n",
    "l_name='Philip'\n",
    "full_name = f_name+' ' +l_name\n",
    "print(full_name)"
   ]
  },
  {
   "cell_type": "code",
   "execution_count": null,
   "id": "f29e2c93",
   "metadata": {},
   "outputs": [],
   "source": [
    "#string operation \n",
    "\n",
    "msg.lower()\n",
    "msg.uppper()\n",
    "msg.title()\n",
    "msg.split()"
   ]
  },
  {
   "cell_type": "code",
   "execution_count": 21,
   "id": "6b2171b0",
   "metadata": {},
   "outputs": [
    {
     "name": "stdout",
     "output_type": "stream",
     "text": [
      "pual philip\n",
      "PUAL PHILIP\n"
     ]
    }
   ],
   "source": [
    "print(full_name.lower())\n",
    "print(full_name.upper())"
   ]
  },
  {
   "cell_type": "code",
   "execution_count": 26,
   "id": "d6289957",
   "metadata": {},
   "outputs": [
    {
     "name": "stdout",
     "output_type": "stream",
     "text": [
      "['hello', 'world!', 'is', 'my', 'first', 'program']\n"
     ]
    }
   ],
   "source": [
    "msg = 'hello world! is my first program'\n",
    "print(msg.split())"
   ]
  },
  {
   "cell_type": "code",
   "execution_count": 27,
   "id": "1690616d",
   "metadata": {},
   "outputs": [
    {
     "name": "stdout",
     "output_type": "stream",
     "text": [
      "Hello World!\n"
     ]
    }
   ],
   "source": [
    "msg = 'hello world!'\n",
    "print(msg.title())"
   ]
  },
  {
   "cell_type": "code",
   "execution_count": 28,
   "id": "d6f766cc",
   "metadata": {},
   "outputs": [
    {
     "name": "stdout",
     "output_type": "stream",
     "text": [
      "['hello world', ' is my first program']\n"
     ]
    }
   ],
   "source": [
    "msg = 'hello world! is my first program'\n",
    "print(msg.split('!'))"
   ]
  },
  {
   "cell_type": "code",
   "execution_count": 42,
   "id": "8c0d273b",
   "metadata": {},
   "outputs": [
    {
     "name": "stdout",
     "output_type": "stream",
     "text": [
      "m\n"
     ]
    }
   ],
   "source": [
    "msg = 'hello world! is my first program'\n",
    "print(msg[-1])"
   ]
  },
  {
   "cell_type": "code",
   "execution_count": null,
   "id": "74b0d5f6",
   "metadata": {},
   "outputs": [],
   "source": []
  },
  {
   "cell_type": "code",
   "execution_count": null,
   "id": "9e64715b",
   "metadata": {},
   "outputs": [],
   "source": []
  }
 ],
 "metadata": {
  "kernelspec": {
   "display_name": "Python 3 (ipykernel)",
   "language": "python",
   "name": "python3"
  },
  "language_info": {
   "codemirror_mode": {
    "name": "ipython",
    "version": 3
   },
   "file_extension": ".py",
   "mimetype": "text/x-python",
   "name": "python",
   "nbconvert_exporter": "python",
   "pygments_lexer": "ipython3",
   "version": "3.11.5"
  }
 },
 "nbformat": 4,
 "nbformat_minor": 5
}
