{
 "cells": [
  {
   "cell_type": "markdown",
   "id": "c1608f07",
   "metadata": {},
   "source": [
    "# Day 5"
   ]
  },
  {
   "cell_type": "markdown",
   "id": "b0218318",
   "metadata": {},
   "source": [
    "# Concept of loops in python"
   ]
  },
  {
   "cell_type": "markdown",
   "id": "62f537bd",
   "metadata": {},
   "source": [
    "# 1. While Loops "
   ]
  },
  {
   "cell_type": "markdown",
   "id": "efaf163b",
   "metadata": {},
   "source": [
    "Program to display number from 1 to 5"
   ]
  },
  {
   "cell_type": "code",
   "execution_count": 1,
   "id": "d57f1371",
   "metadata": {},
   "outputs": [
    {
     "name": "stdout",
     "output_type": "stream",
     "text": [
      "1\n",
      "2\n",
      "3\n",
      "4\n",
      "5\n"
     ]
    }
   ],
   "source": [
    "i = 1\n",
    "n = 5\n",
    "while i<=n:\n",
    "    print(i)\n",
    "    i = i+1"
   ]
  },
  {
   "cell_type": "markdown",
   "id": "ae80c93f",
   "metadata": {},
   "source": [
    "Enter the value from a user and make a multiplication table till 10"
   ]
  },
  {
   "cell_type": "code",
   "execution_count": 5,
   "id": "b0c7eb2f",
   "metadata": {},
   "outputs": [
    {
     "name": "stdout",
     "output_type": "stream",
     "text": [
      "Enter the value10\n",
      "10\n",
      "20\n",
      "30\n",
      "40\n",
      "50\n",
      "60\n",
      "70\n",
      "80\n",
      "90\n",
      "100\n",
      "This is the multiplication table \n"
     ]
    }
   ],
   "source": [
    "x = int(input(\"Enter the value\"))\n",
    "i = 1\n",
    "while i<=10:\n",
    "    print(x*i)\n",
    "    i = i+1\n",
    "print(\"This is the multiplication table \")"
   ]
  },
  {
   "cell_type": "markdown",
   "id": "b27f248c",
   "metadata": {},
   "source": [
    "# 2. Infinite Loop"
   ]
  },
  {
   "cell_type": "code",
   "execution_count": null,
   "id": "aa02faaa",
   "metadata": {},
   "outputs": [],
   "source": [
    "age = 32\n",
    "while age>18:\n",
    "    print(\"You can vote\")"
   ]
  },
  {
   "cell_type": "code",
   "execution_count": 1,
   "id": "8b1bbbdb",
   "metadata": {},
   "outputs": [
    {
     "name": "stdout",
     "output_type": "stream",
     "text": [
      "Hello students\n",
      "Hello students\n",
      "Hello students\n",
      "Hello students\n",
      "Hello students\n",
      "Hello students\n",
      "Hello students\n",
      "Hello students\n",
      "Hello students\n",
      "Hello students\n",
      "Hello students\n",
      "Hello students\n",
      "Hello students\n",
      "Hello students\n",
      "Hello students\n",
      "Hello students\n",
      "Hello students\n",
      "Hello students\n",
      "Hello students\n",
      "Hello students\n",
      "Hello students\n",
      "Hello students\n",
      "Hello students\n",
      "Hello students\n",
      "Hello students\n"
     ]
    }
   ],
   "source": [
    "count = 0 \n",
    "while(count<25):\n",
    "    count = count+1\n",
    "    print(\"Hello students\")"
   ]
  },
  {
   "cell_type": "markdown",
   "id": "5b4371d1",
   "metadata": {},
   "source": [
    "# 3. Using else statement in the while loop"
   ]
  },
  {
   "cell_type": "code",
   "execution_count": 2,
   "id": "dec5fa6f",
   "metadata": {},
   "outputs": [
    {
     "name": "stdout",
     "output_type": "stream",
     "text": [
      "Hello students\n",
      "Hello students\n",
      "Hello students\n",
      "Hello students\n",
      "Hello students\n",
      "Hello students\n",
      "Hello students\n",
      "Hello students\n",
      "Hello students\n",
      "Hello students\n",
      "Hello students\n",
      "Hello students\n",
      "Hello students\n",
      "Hello students\n",
      "Hello students\n",
      "Hello students\n",
      "Hello students\n",
      "Hello students\n",
      "Hello students\n",
      "Hello students\n",
      "Hello students\n",
      "Hello students\n",
      "Hello students\n",
      "Hello students\n",
      "Hello students\n",
      "This is else block\n"
     ]
    }
   ],
   "source": [
    "count = 0 \n",
    "while(count<25):\n",
    "    count = count +1\n",
    "    print(\"Hello students\")\n",
    "else:\n",
    "    print(\"This is else block\")"
   ]
  },
  {
   "cell_type": "markdown",
   "id": "e849646b",
   "metadata": {},
   "source": [
    "# 1.1 For loop"
   ]
  },
  {
   "cell_type": "code",
   "execution_count": 3,
   "id": "f444f0a6",
   "metadata": {},
   "outputs": [
    {
     "name": "stdout",
     "output_type": "stream",
     "text": [
      "Apple\n",
      "Orange\n",
      "Banana\n"
     ]
    }
   ],
   "source": [
    "fruits = [\"Apple\", \"Orange\",\"Banana\"]\n",
    "for x in fruits:\n",
    "    print(x)"
   ]
  },
  {
   "cell_type": "markdown",
   "id": "8530481f",
   "metadata": {},
   "source": [
    "# 2. Looping through a string"
   ]
  },
  {
   "cell_type": "code",
   "execution_count": 5,
   "id": "379c83d8",
   "metadata": {},
   "outputs": [
    {
     "name": "stdout",
     "output_type": "stream",
     "text": [
      "b\n",
      "a\n",
      "n\n",
      "a\n",
      "n\n",
      "a\n"
     ]
    }
   ],
   "source": [
    "for x in \"banana\":\n",
    "    print(x)"
   ]
  },
  {
   "cell_type": "code",
   "execution_count": 7,
   "id": "46755949",
   "metadata": {},
   "outputs": [
    {
     "name": "stdout",
     "output_type": "stream",
     "text": [
      "3\n",
      "4\n",
      "5\n",
      "6\n",
      "7\n",
      "8\n",
      "9\n",
      "10\n",
      "11\n",
      "12\n",
      "13\n",
      "14\n",
      "15\n",
      "16\n",
      "17\n",
      "18\n",
      "19\n",
      "20\n",
      "21\n",
      "22\n",
      "23\n",
      "24\n"
     ]
    }
   ],
   "source": [
    "for x in range(3,25):\n",
    "    print(x)"
   ]
  },
  {
   "cell_type": "code",
   "execution_count": null,
   "id": "2ed8c262",
   "metadata": {},
   "outputs": [],
   "source": []
  }
 ],
 "metadata": {
  "kernelspec": {
   "display_name": "Python 3 (ipykernel)",
   "language": "python",
   "name": "python3"
  },
  "language_info": {
   "codemirror_mode": {
    "name": "ipython",
    "version": 3
   },
   "file_extension": ".py",
   "mimetype": "text/x-python",
   "name": "python",
   "nbconvert_exporter": "python",
   "pygments_lexer": "ipython3",
   "version": "3.11.5"
  }
 },
 "nbformat": 4,
 "nbformat_minor": 5
}
