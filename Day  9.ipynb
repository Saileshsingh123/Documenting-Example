{
 "cells": [
  {
   "cell_type": "markdown",
   "id": "90d727ed",
   "metadata": {},
   "source": [
    "# Day 9 "
   ]
  },
  {
   "cell_type": "markdown",
   "id": "758ebbb6",
   "metadata": {},
   "source": [
    "# Introduction to tuples in python"
   ]
  },
  {
   "cell_type": "markdown",
   "id": "4605ed7e",
   "metadata": {},
   "source": [
    "# 1. Creating a tuples"
   ]
  },
  {
   "cell_type": "code",
   "execution_count": 3,
   "id": "2e8eaf96",
   "metadata": {},
   "outputs": [
    {
     "name": "stdout",
     "output_type": "stream",
     "text": [
      "(1, 2, 3)\n",
      "<class 'tuple'>\n"
     ]
    }
   ],
   "source": [
    "my_tuple = (1,2,3)\n",
    "print(my_tuple)\n",
    "print(type(my_tuple))"
   ]
  },
  {
   "cell_type": "markdown",
   "id": "52ecbfe2",
   "metadata": {},
   "source": [
    "# 2. Creating tuple as mixed datatypes"
   ]
  },
  {
   "cell_type": "code",
   "execution_count": 4,
   "id": "a9ed1065",
   "metadata": {},
   "outputs": [
    {
     "name": "stdout",
     "output_type": "stream",
     "text": [
      "(1, 2, 3, 4.5, 6.9, 'sailesh', 'singh', (3+4j))\n"
     ]
    }
   ],
   "source": [
    "my_tuple = (1,2,3,4.5,6.9,\"sailesh\",\"singh\",3+4j)\n",
    "print(my_tuple)"
   ]
  },
  {
   "cell_type": "markdown",
   "id": "4147ebc7",
   "metadata": {},
   "source": [
    "# 3. Empty tuple"
   ]
  },
  {
   "cell_type": "code",
   "execution_count": 6,
   "id": "2e6acb23",
   "metadata": {},
   "outputs": [
    {
     "name": "stdout",
     "output_type": "stream",
     "text": [
      "()\n",
      "<class 'tuple'>\n"
     ]
    }
   ],
   "source": [
    "my_tuple = ()\n",
    "print(my_tuple)\n",
    "print(type(my_tuple))"
   ]
  },
  {
   "cell_type": "markdown",
   "id": "3fd034cd",
   "metadata": {},
   "source": [
    "# 4. Nested Tuples"
   ]
  },
  {
   "cell_type": "code",
   "execution_count": 7,
   "id": "68e4bd62",
   "metadata": {},
   "outputs": [
    {
     "name": "stdout",
     "output_type": "stream",
     "text": [
      "('data', [1, 2, 3], (4, 5, 6))\n",
      "<class 'tuple'>\n"
     ]
    }
   ],
   "source": [
    "a = (\"data\", [1,2,3], (4,5,6))\n",
    "print(a)\n",
    "print(type(a))"
   ]
  },
  {
   "cell_type": "markdown",
   "id": "bb0255c1",
   "metadata": {},
   "source": [
    "# 5. Creating a tuple with only one item"
   ]
  },
  {
   "cell_type": "code",
   "execution_count": 10,
   "id": "373fca7c",
   "metadata": {},
   "outputs": [
    {
     "name": "stdout",
     "output_type": "stream",
     "text": [
      "('Hello',)\n",
      "<class 'tuple'>\n"
     ]
    }
   ],
   "source": [
    "a = (\"Hello\", )\n",
    "print(a)\n",
    "print(type(a))"
   ]
  },
  {
   "cell_type": "code",
   "execution_count": 11,
   "id": "d609f4f6",
   "metadata": {},
   "outputs": [
    {
     "name": "stdout",
     "output_type": "stream",
     "text": [
      "(5,)\n",
      "<class 'tuple'>\n"
     ]
    }
   ],
   "source": [
    "b = (5,)\n",
    "print(b)\n",
    "print(type(b))"
   ]
  },
  {
   "cell_type": "markdown",
   "id": "7bdfe174",
   "metadata": {},
   "source": [
    "# 6. Tuple Constructor"
   ]
  },
  {
   "cell_type": "code",
   "execution_count": 14,
   "id": "0cf7e1d2",
   "metadata": {},
   "outputs": [
    {
     "name": "stdout",
     "output_type": "stream",
     "text": [
      "('a', 'b', 'c')\n",
      "<class 'tuple'>\n"
     ]
    }
   ],
   "source": [
    "a = tuple((\"a\",\"b\",\"c\"))\n",
    "print(a)\n",
    "print(type(a))"
   ]
  },
  {
   "cell_type": "markdown",
   "id": "29233ce1",
   "metadata": {},
   "source": [
    "# 7. Indexing"
   ]
  },
  {
   "cell_type": "code",
   "execution_count": 15,
   "id": "faa9784e",
   "metadata": {},
   "outputs": [
    {
     "name": "stdout",
     "output_type": "stream",
     "text": [
      "8\n"
     ]
    }
   ],
   "source": [
    "a = (47,48,45,48,4,8)\n",
    "print(a[5])"
   ]
  },
  {
   "cell_type": "code",
   "execution_count": 17,
   "id": "58f8e960",
   "metadata": {},
   "outputs": [
    {
     "name": "stdout",
     "output_type": "stream",
     "text": [
      "python\n"
     ]
    }
   ],
   "source": [
    "a = (47,48,45,48,4,8,\"data\",\"python\")\n",
    "print(a[7])"
   ]
  },
  {
   "cell_type": "code",
   "execution_count": 18,
   "id": "6793c8bf",
   "metadata": {},
   "outputs": [
    {
     "name": "stdout",
     "output_type": "stream",
     "text": [
      "python\n"
     ]
    }
   ],
   "source": [
    "a = (47,48,45,48,4,8,\"data\",\"python\")\n",
    "print(a[-1])"
   ]
  },
  {
   "cell_type": "markdown",
   "id": "87d85947",
   "metadata": {},
   "source": [
    "# 8. Slicing"
   ]
  },
  {
   "cell_type": "code",
   "execution_count": 21,
   "id": "9cdfff49",
   "metadata": {},
   "outputs": [
    {
     "name": "stdout",
     "output_type": "stream",
     "text": [
      "(14, 15, 16, 17, 18, 2)\n"
     ]
    }
   ],
   "source": [
    "a = (14,15,16,17,18,2,45,67,89)\n",
    "print(a[0:6])"
   ]
  },
  {
   "cell_type": "code",
   "execution_count": 22,
   "id": "a0f2c901",
   "metadata": {},
   "outputs": [
    {
     "name": "stdout",
     "output_type": "stream",
     "text": [
      "(14, 15, 16, 17, 18, 2)\n"
     ]
    }
   ],
   "source": [
    "a = (14,15,16,17,18,2,45,67,89)\n",
    "print(a[:6])"
   ]
  },
  {
   "cell_type": "code",
   "execution_count": 24,
   "id": "a9295c23",
   "metadata": {},
   "outputs": [
    {
     "name": "stdout",
     "output_type": "stream",
     "text": [
      "(14, 15, 16, 17, 18, 2, 45, 67, 89)\n"
     ]
    }
   ],
   "source": [
    "a = (14,15,16,17,18,2,45,67,89)\n",
    "print(a[0:9])"
   ]
  },
  {
   "cell_type": "code",
   "execution_count": 25,
   "id": "01f1e6b8",
   "metadata": {},
   "outputs": [
    {
     "name": "stdout",
     "output_type": "stream",
     "text": [
      "(14, 15, 16, 17, 18, 2, 45, 67, 89)\n"
     ]
    }
   ],
   "source": [
    "a = (14,15,16,17,18,2,45,67,89)\n",
    "print(a[:])"
   ]
  },
  {
   "cell_type": "code",
   "execution_count": 27,
   "id": "5816aca6",
   "metadata": {},
   "outputs": [
    {
     "name": "stdout",
     "output_type": "stream",
     "text": [
      "(14, 16, 18, 45, 89)\n"
     ]
    }
   ],
   "source": [
    "a = (14,15,16,17,18,2,45,67,89)\n",
    "print(a[::2])"
   ]
  },
  {
   "cell_type": "code",
   "execution_count": 28,
   "id": "42e7b203",
   "metadata": {},
   "outputs": [
    {
     "name": "stdout",
     "output_type": "stream",
     "text": [
      "(14, 17, 45)\n"
     ]
    }
   ],
   "source": [
    "a = (14,15,16,17,18,2,45,67,89)\n",
    "print(a[::3])"
   ]
  },
  {
   "cell_type": "markdown",
   "id": "8a60020f",
   "metadata": {},
   "source": [
    "# 9. Reverse"
   ]
  },
  {
   "cell_type": "code",
   "execution_count": 29,
   "id": "aa2bfa46",
   "metadata": {},
   "outputs": [
    {
     "name": "stdout",
     "output_type": "stream",
     "text": [
      "(89, 67, 45, 2, 18, 17, 16, 15, 14)\n"
     ]
    }
   ],
   "source": [
    "a = (14,15,16,17,18,2,45,67,89)\n",
    "print(a[::-1])"
   ]
  },
  {
   "cell_type": "code",
   "execution_count": 31,
   "id": "6532b870",
   "metadata": {},
   "outputs": [
    {
     "name": "stdout",
     "output_type": "stream",
     "text": [
      "(1, 2, 3, 4, 5, 6, 7, 8)\n",
      "(4, 5, 6, 7, 8)\n",
      "(1, 2, 3, 4)\n",
      "()\n"
     ]
    }
   ],
   "source": [
    "t = (1,2,3,4,5,6,7,8)\n",
    "print(t[::])\n",
    "print(t[3:])\n",
    "print(t[:4])\n",
    "print(t[-2:-5])"
   ]
  },
  {
   "cell_type": "code",
   "execution_count": 32,
   "id": "72dfb72f",
   "metadata": {},
   "outputs": [
    {
     "name": "stdout",
     "output_type": "stream",
     "text": [
      "(25, 26, 27, 28, 29, '30')\n"
     ]
    }
   ],
   "source": [
    "a = (25,26,27,28,29)\n",
    "y = list(a)\n",
    "y.append(\"30\")\n",
    "a = tuple(y)\n",
    "print(a)"
   ]
  },
  {
   "cell_type": "code",
   "execution_count": 36,
   "id": "fa4e4b04",
   "metadata": {},
   "outputs": [
    {
     "name": "stdout",
     "output_type": "stream",
     "text": [
      "(25, 27, 28, 29)\n"
     ]
    }
   ],
   "source": [
    "a = (25,26,27,28,29)\n",
    "y = list(a)\n",
    "y.remove(26)\n",
    "a = tuple(y)\n",
    "print(a)"
   ]
  },
  {
   "cell_type": "code",
   "execution_count": 38,
   "id": "46a9d5cb",
   "metadata": {},
   "outputs": [
    {
     "ename": "NameError",
     "evalue": "name 'a' is not defined",
     "output_type": "error",
     "traceback": [
      "\u001b[1;31m---------------------------------------------------------------------------\u001b[0m",
      "\u001b[1;31mNameError\u001b[0m                                 Traceback (most recent call last)",
      "Cell \u001b[1;32mIn[38], line 3\u001b[0m\n\u001b[0;32m      1\u001b[0m a \u001b[38;5;241m=\u001b[39m (\u001b[38;5;241m1\u001b[39m,\u001b[38;5;241m2\u001b[39m,\u001b[38;5;241m3\u001b[39m,\u001b[38;5;241m4\u001b[39m,\u001b[38;5;241m5\u001b[39m,\u001b[38;5;241m6\u001b[39m,\u001b[38;5;241m7\u001b[39m,\u001b[38;5;241m8\u001b[39m,\u001b[38;5;241m9\u001b[39m)\n\u001b[0;32m      2\u001b[0m \u001b[38;5;28;01mdel\u001b[39;00m a \n\u001b[1;32m----> 3\u001b[0m \u001b[38;5;28mprint\u001b[39m(a)\n",
      "\u001b[1;31mNameError\u001b[0m: name 'a' is not defined"
     ]
    }
   ],
   "source": [
    "a = (1,2,3,4,5,6,7,8,9)\n",
    "del a \n",
    "print(a)"
   ]
  },
  {
   "cell_type": "markdown",
   "id": "108613db",
   "metadata": {},
   "source": [
    "# 10. LOOP"
   ]
  },
  {
   "cell_type": "code",
   "execution_count": 40,
   "id": "3dfbd845",
   "metadata": {},
   "outputs": [
    {
     "name": "stdout",
     "output_type": "stream",
     "text": [
      "a\n",
      "b\n",
      "c\n"
     ]
    }
   ],
   "source": [
    "thistuple = (\"a\",\"b\",\"c\")\n",
    "for x in thistuple:\n",
    "    print(x)"
   ]
  },
  {
   "cell_type": "markdown",
   "id": "c72543f3",
   "metadata": {},
   "source": [
    "# 11. JOin two tuple"
   ]
  },
  {
   "cell_type": "code",
   "execution_count": 41,
   "id": "2b7eb63c",
   "metadata": {},
   "outputs": [
    {
     "name": "stdout",
     "output_type": "stream",
     "text": [
      "('a', 'b', 'c', 1, 2, 3)\n"
     ]
    }
   ],
   "source": [
    "tuple1 = (\"a\",\"b\",\"c\")\n",
    "tuple2 = (1,2,3)\n",
    "tuple3 = tuple1+tuple2\n",
    "print(tuple3)"
   ]
  },
  {
   "cell_type": "markdown",
   "id": "bb873f7c",
   "metadata": {},
   "source": [
    "# 12. Multiply"
   ]
  },
  {
   "cell_type": "code",
   "execution_count": 42,
   "id": "85b7b0f3",
   "metadata": {},
   "outputs": [
    {
     "name": "stdout",
     "output_type": "stream",
     "text": [
      "('apple', 'data', 'python', 'apple', 'data', 'python')\n"
     ]
    }
   ],
   "source": [
    "a = (\"apple\",\"data\",\"python\")\n",
    "b = a*2\n",
    "print(b)"
   ]
  },
  {
   "cell_type": "code",
   "execution_count": 43,
   "id": "7835fecc",
   "metadata": {},
   "outputs": [
    {
     "name": "stdout",
     "output_type": "stream",
     "text": [
      "(1, 2, 3, 4, 5, 6, 7, 8, 1, 2, 3, 4, 5, 6, 7, 8)\n",
      "(1, 2, 3, 4, 5, 6, 7, 8, 1, 2, 3, 4, 5, 6, 7, 8, 1, 2, 3, 4, 5, 6, 7, 8)\n",
      "(1, 2, 3, 4, 5, 6, 7, 8, 1, 2, 3, 4, 5, 6, 7, 8)\n",
      "8\n"
     ]
    }
   ],
   "source": [
    "T = (1,2,3,4,5,6,7,8)\n",
    "print(T*2)\n",
    "print(T+T+T)\n",
    "print(T+T)\n",
    "print(len(T))"
   ]
  },
  {
   "cell_type": "markdown",
   "id": "ad83471f",
   "metadata": {},
   "source": [
    "# Q. Write a program to take 5 input from the user and store it in a tuple"
   ]
  },
  {
   "cell_type": "code",
   "execution_count": 44,
   "id": "95e35088",
   "metadata": {},
   "outputs": [
    {
     "name": "stdout",
     "output_type": "stream",
     "text": [
      "Enter the values please 10\n",
      "(10,)\n",
      "Enter the values please 20\n",
      "(10, 20)\n",
      "Enter the values please 30\n",
      "(10, 20, 30)\n",
      "Enter the values please 40\n",
      "(10, 20, 30, 40)\n",
      "Enter the values please 50\n",
      "(10, 20, 30, 40, 50)\n",
      "Enter the values please 60\n",
      "(10, 20, 30, 40, 50, 60)\n"
     ]
    }
   ],
   "source": [
    "T = ()\n",
    "i = 0\n",
    "while i<=5:\n",
    "    num = int(input(\"Enter the values please \"))\n",
    "    T = T + (num,)\n",
    "    i = i + 1\n",
    "    print(T)\n",
    "\n"
   ]
  },
  {
   "cell_type": "code",
   "execution_count": null,
   "id": "4e6bdd8c",
   "metadata": {},
   "outputs": [],
   "source": []
  }
 ],
 "metadata": {
  "kernelspec": {
   "display_name": "Python 3 (ipykernel)",
   "language": "python",
   "name": "python3"
  },
  "language_info": {
   "codemirror_mode": {
    "name": "ipython",
    "version": 3
   },
   "file_extension": ".py",
   "mimetype": "text/x-python",
   "name": "python",
   "nbconvert_exporter": "python",
   "pygments_lexer": "ipython3",
   "version": "3.11.5"
  }
 },
 "nbformat": 4,
 "nbformat_minor": 5
}
