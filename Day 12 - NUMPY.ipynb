{
 "cells": [
  {
   "cell_type": "code",
   "execution_count": 5,
   "id": "ce88f6c5",
   "metadata": {},
   "outputs": [],
   "source": [
    "import numpy as np"
   ]
  },
  {
   "cell_type": "code",
   "execution_count": 6,
   "id": "c3b9d7b2",
   "metadata": {},
   "outputs": [
    {
     "name": "stdout",
     "output_type": "stream",
     "text": [
      "[1 2 3 4 5]\n",
      "<class 'numpy.ndarray'>\n"
     ]
    }
   ],
   "source": [
    "arr = np.array([1,2,3,4,5])\n",
    "print(arr)\n",
    "print(type(arr))"
   ]
  },
  {
   "cell_type": "code",
   "execution_count": 9,
   "id": "6cfec467",
   "metadata": {},
   "outputs": [
    {
     "name": "stdout",
     "output_type": "stream",
     "text": [
      "[1 2 3 4 5]\n",
      "<class 'numpy.ndarray'>\n"
     ]
    }
   ],
   "source": [
    "arr = np.array((1,2,3,4,5))\n",
    "print(arr)\n",
    "print(type(arr))"
   ]
  },
  {
   "cell_type": "markdown",
   "id": "219fad29",
   "metadata": {},
   "source": [
    "# 1. DIMENSION IN ARRAY"
   ]
  },
  {
   "cell_type": "code",
   "execution_count": 11,
   "id": "734b870c",
   "metadata": {},
   "outputs": [
    {
     "name": "stdout",
     "output_type": "stream",
     "text": [
      "20\n",
      "<class 'numpy.ndarray'>\n",
      "0\n"
     ]
    }
   ],
   "source": [
    "arr = np.array(20)\n",
    "print(arr)\n",
    "print(type(arr))\n",
    "print(arr.ndim)"
   ]
  },
  {
   "cell_type": "markdown",
   "id": "5f3f9534",
   "metadata": {},
   "source": [
    "# 1D ARRAY"
   ]
  },
  {
   "cell_type": "code",
   "execution_count": 12,
   "id": "28b7a8e9",
   "metadata": {},
   "outputs": [
    {
     "name": "stdout",
     "output_type": "stream",
     "text": [
      "[1 2 3 4 5 6]\n",
      "1\n"
     ]
    }
   ],
   "source": [
    "arr = np.array([1,2,3,4,5,6])\n",
    "print(arr)\n",
    "print(arr.ndim)"
   ]
  },
  {
   "cell_type": "markdown",
   "id": "b958c536",
   "metadata": {},
   "source": [
    "# 2D ARRAY"
   ]
  },
  {
   "cell_type": "code",
   "execution_count": 14,
   "id": "46de5046",
   "metadata": {},
   "outputs": [
    {
     "name": "stdout",
     "output_type": "stream",
     "text": [
      "[[1 2 3]\n",
      " [4 5 6]]\n",
      "2\n"
     ]
    }
   ],
   "source": [
    "arr = np.array([[1,2,3],[4,5,6]])\n",
    "print(arr)\n",
    "print(arr.ndim)"
   ]
  },
  {
   "cell_type": "markdown",
   "id": "077e0124",
   "metadata": {},
   "source": [
    "# 3D ARRAY"
   ]
  },
  {
   "cell_type": "code",
   "execution_count": 15,
   "id": "bda7012c",
   "metadata": {},
   "outputs": [
    {
     "name": "stdout",
     "output_type": "stream",
     "text": [
      "[[[1 2 3]\n",
      "  [4 5 6]\n",
      "  [7 8 9]]]\n",
      "3\n"
     ]
    }
   ],
   "source": [
    "arr = np.array([[[1,2,3],[4,5,6],[7,8,9]]])\n",
    "print(arr)\n",
    "print(arr.ndim)"
   ]
  },
  {
   "cell_type": "markdown",
   "id": "2d25d681",
   "metadata": {},
   "source": [
    "# check number of dimensions"
   ]
  },
  {
   "cell_type": "code",
   "execution_count": 16,
   "id": "ff147604",
   "metadata": {},
   "outputs": [
    {
     "name": "stdout",
     "output_type": "stream",
     "text": [
      "0\n",
      "1\n",
      "3\n",
      "4\n"
     ]
    }
   ],
   "source": [
    "import numpy as np\n",
    "\n",
    "arr1 = np.array(40)\n",
    "arr2 = np.array([1,2,3])\n",
    "arr3 = np.array([[[1,2,3],[4,5,6]]])\n",
    "arr4 = np.array([[[[1,2,3],[1,2,3],[1,2,3]]]]) \n",
    "print(arr1.ndim)\n",
    "print(arr2.ndim)\n",
    "print(arr3.ndim)\n",
    "print(arr4.ndim)"
   ]
  },
  {
   "cell_type": "markdown",
   "id": "dd8a8a3f",
   "metadata": {},
   "source": [
    "# Create an array with 5 dimensions and verify that it has 5 dimensions "
   ]
  },
  {
   "cell_type": "code",
   "execution_count": 18,
   "id": "17b5939a",
   "metadata": {},
   "outputs": [
    {
     "name": "stdout",
     "output_type": "stream",
     "text": [
      "[[[[[1 2 3 4 5]]]]]\n",
      "number of dimensions : 5\n"
     ]
    }
   ],
   "source": [
    "import numpy as np \n",
    "\n",
    "arr = np.array([1,2,3,4,5], ndmin=5)\n",
    "print(arr)\n",
    "print('number of dimensions :', arr.ndim)\n"
   ]
  },
  {
   "cell_type": "markdown",
   "id": "b426a76d",
   "metadata": {},
   "source": [
    "# OR"
   ]
  },
  {
   "cell_type": "code",
   "execution_count": 22,
   "id": "a48a56ec",
   "metadata": {},
   "outputs": [
    {
     "name": "stdout",
     "output_type": "stream",
     "text": [
      "[[[[[1 2 3 4 5]]]]]\n",
      "number of dimension :  5\n"
     ]
    }
   ],
   "source": [
    "# arr = np.array([[[[[1,2,3,4,5]]]]])\n",
    "print(arr)\n",
    "print('number of dimension : ', arr.ndim)"
   ]
  },
  {
   "cell_type": "markdown",
   "id": "d34e8785",
   "metadata": {},
   "source": [
    "# NumPy array indexing"
   ]
  },
  {
   "cell_type": "code",
   "execution_count": null,
   "id": "f7331dda",
   "metadata": {},
   "outputs": [],
   "source": [
    "Array indexing is the same as accesing an array element\n",
    "You can access an array element by referring to its index number\n",
    "The indexes in NumpY arrays starts with 0, meaning that the first elements has index 0, and the second has index 1 etc"
   ]
  },
  {
   "cell_type": "markdown",
   "id": "4af83d40",
   "metadata": {},
   "source": [
    "# Get the first element from the following array :"
   ]
  },
  {
   "cell_type": "code",
   "execution_count": 23,
   "id": "db5e6cf3",
   "metadata": {},
   "outputs": [
    {
     "name": "stdout",
     "output_type": "stream",
     "text": [
      "1\n"
     ]
    }
   ],
   "source": [
    "arr = np.array([1,2,3,4])\n",
    "print(arr[0])"
   ]
  },
  {
   "cell_type": "markdown",
   "id": "87f8e626",
   "metadata": {},
   "source": [
    "# Get third and sixth and 8th elements from the following array and add them"
   ]
  },
  {
   "cell_type": "code",
   "execution_count": 24,
   "id": "d825ff15",
   "metadata": {},
   "outputs": [
    {
     "name": "stdout",
     "output_type": "stream",
     "text": [
      "The third element is :  3\n",
      "The sixth element is :  7\n",
      "The eight element is :  9\n",
      "sum of this element are  19\n"
     ]
    }
   ],
   "source": [
    "m = np.array([1,2,3,4,5,6,7,8,9,10])\n",
    "print(\"The third element is : \", m[2])\n",
    "print(\"The sixth element is : \", m[6])\n",
    "print(\"The eight element is : \", m[8])\n",
    "print(\"sum of this element are \", m[2]+m[6]+m[8])\n"
   ]
  },
  {
   "cell_type": "markdown",
   "id": "f6622fb7",
   "metadata": {},
   "source": [
    "# TO access elements from 2D arrays"
   ]
  },
  {
   "cell_type": "code",
   "execution_count": 25,
   "id": "081e754b",
   "metadata": {},
   "outputs": [
    {
     "name": "stdout",
     "output_type": "stream",
     "text": [
      "2nd element on 1st row 20\n"
     ]
    }
   ],
   "source": [
    "arr = np.array([[10,20,30,40,50],[60,70,80,90,100]])\n",
    "print(\"2nd element on 1st row\", arr[0,1])"
   ]
  },
  {
   "cell_type": "code",
   "execution_count": 26,
   "id": "0725668a",
   "metadata": {},
   "outputs": [
    {
     "name": "stdout",
     "output_type": "stream",
     "text": [
      "4TH element on 1st row 40\n"
     ]
    }
   ],
   "source": [
    "arr = np.array([[10,20,30,40,50],[60,70,80,90,100]])\n",
    "print(\"4TH element on 1st row\", arr[0,3])"
   ]
  },
  {
   "cell_type": "code",
   "execution_count": 29,
   "id": "d37245c8",
   "metadata": {},
   "outputs": [
    {
     "name": "stdout",
     "output_type": "stream",
     "text": [
      "5th element on 2nd row 100\n"
     ]
    }
   ],
   "source": [
    "arr = np.array([[10,20,30,40,50],[60,70,80,90,100]])\n",
    "print(\"5th element on 2nd row\", arr[1,4])"
   ]
  },
  {
   "cell_type": "markdown",
   "id": "c7a7757c",
   "metadata": {},
   "source": [
    "# Add the first element of row 1 and last element"
   ]
  },
  {
   "cell_type": "code",
   "execution_count": 34,
   "id": "30d33e8e",
   "metadata": {},
   "outputs": [
    {
     "name": "stdout",
     "output_type": "stream",
     "text": [
      "first element of row1 10\n",
      "last element of row2 100\n",
      "sum of row1 and row2 is  110\n"
     ]
    }
   ],
   "source": [
    "arr = np.array([[10,20,30,40,50],[60,70,80,90,100]])\n",
    "print(\"first element of row1\", arr[0,0])\n",
    "print(\"last element of row2\", arr[1,4])\n",
    "print(\"sum of row1 and row2 is \", arr[0,0]+arr[1,4])"
   ]
  },
  {
   "cell_type": "markdown",
   "id": "a2278c00",
   "metadata": {},
   "source": [
    "# To access 3-D arrays"
   ]
  },
  {
   "cell_type": "markdown",
   "id": "7ccd482a",
   "metadata": {},
   "source": [
    "# Access the third element of the second array of the first array"
   ]
  },
  {
   "cell_type": "code",
   "execution_count": 39,
   "id": "d5170701",
   "metadata": {},
   "outputs": [
    {
     "name": "stdout",
     "output_type": "stream",
     "text": [
      "6\n"
     ]
    }
   ],
   "source": [
    "import numpy as np\n",
    "\n",
    "arr = np.array([[[1,2,3],[4,5,6],[7,8,9],[10,11,12]]])\n",
    "print(arr[0,1,2])"
   ]
  },
  {
   "cell_type": "code",
   "execution_count": 40,
   "id": "42330103",
   "metadata": {},
   "outputs": [
    {
     "name": "stdout",
     "output_type": "stream",
     "text": [
      "12\n"
     ]
    }
   ],
   "source": [
    "arr = np.array([[[1,2,3],[4,5,6],[7,8,9],[10,11,12]]])\n",
    "print(arr[0,3,2])"
   ]
  },
  {
   "cell_type": "code",
   "execution_count": null,
   "id": "e6f099c0",
   "metadata": {},
   "outputs": [],
   "source": []
  }
 ],
 "metadata": {
  "kernelspec": {
   "display_name": "Python 3 (ipykernel)",
   "language": "python",
   "name": "python3"
  },
  "language_info": {
   "codemirror_mode": {
    "name": "ipython",
    "version": 3
   },
   "file_extension": ".py",
   "mimetype": "text/x-python",
   "name": "python",
   "nbconvert_exporter": "python",
   "pygments_lexer": "ipython3",
   "version": "3.11.5"
  }
 },
 "nbformat": 4,
 "nbformat_minor": 5
}
