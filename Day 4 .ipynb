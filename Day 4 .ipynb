{
 "cells": [
  {
   "cell_type": "markdown",
   "id": "4f21c6a4",
   "metadata": {},
   "source": [
    "# Day 4"
   ]
  },
  {
   "cell_type": "markdown",
   "id": "28acb7be",
   "metadata": {},
   "source": [
    "# Control Flow Statement\n"
   ]
  },
  {
   "cell_type": "markdown",
   "id": "442c9d40",
   "metadata": {},
   "source": [
    "# 1. IF condition"
   ]
  },
  {
   "cell_type": "markdown",
   "id": "ee3e3457",
   "metadata": {},
   "source": [
    "Write a program to calculate the percentage of a students maths science social english and nepali."
   ]
  },
  {
   "cell_type": "code",
   "execution_count": 2,
   "id": "9ef69b1c",
   "metadata": {},
   "outputs": [
    {
     "name": "stdout",
     "output_type": "stream",
     "text": [
      "Enter the name of student Sailesh singh\n",
      "Enter the marks scored in english 89\n",
      "Enter the marks scored in nepali 98\n",
      "Enter the marks scored in maths 68\n",
      "Enter the marks scored in science 56\n",
      "Enter the marks scored in social 99\n",
      "The percent scored by student is 82.0\n"
     ]
    }
   ],
   "source": [
    "x = input(\"Enter the name of student \")\n",
    "a = int(input(\"Enter the marks scored in english \"))\n",
    "b = int(input(\"Enter the marks scored in nepali \"))\n",
    "c = int(input(\"Enter the marks scored in maths \"))\n",
    "d = int(input(\"Enter the marks scored in science \"))\n",
    "e = int(input(\"Enter the marks scored in social \"))\n",
    "n = ((a+b+c+d+e)/500)*100\n",
    "print(\"The percent scored by student is\", n)"
   ]
  },
  {
   "cell_type": "code",
   "execution_count": 6,
   "id": "ddf9a01b",
   "metadata": {},
   "outputs": [
    {
     "name": "stdout",
     "output_type": "stream",
     "text": [
      "Enter the  percenatge scored by the student90\n",
      "A grade\n"
     ]
    }
   ],
   "source": [
    "a = int(input(\"Enter the  percenatge scored by the student\"))\n",
    "\n",
    "if a>=90:\n",
    "    print(\"A grade\")\n",
    "if a>=75 and a<90:\n",
    "    print(\"B grade\")\n",
    "if a>=65 and a<75:\n",
    "    print(\"C grade\")\n",
    "    "
   ]
  },
  {
   "cell_type": "markdown",
   "id": "fed8e700",
   "metadata": {},
   "source": [
    "# 2. If else statement"
   ]
  },
  {
   "cell_type": "markdown",
   "id": "67a4d6af",
   "metadata": {},
   "source": [
    "Write a program to display hello if number entered by a user is multiple of 5  else print bye"
   ]
  },
  {
   "cell_type": "code",
   "execution_count": 11,
   "id": "dee603ba",
   "metadata": {},
   "outputs": [
    {
     "name": "stdout",
     "output_type": "stream",
     "text": [
      "Enter a number 55\n",
      "Hello\n"
     ]
    }
   ],
   "source": [
    "a = int(input(\"Enter a number \"))\n",
    "if a%5==0:\n",
    "    print(\"Hello\")\n",
    "else:\n",
    "    print(\"Bye\")"
   ]
  },
  {
   "cell_type": "code",
   "execution_count": 13,
   "id": "794e9e1f",
   "metadata": {},
   "outputs": [
    {
     "name": "stdout",
     "output_type": "stream",
     "text": [
      "Enter a number -1\n",
      "Negative\n"
     ]
    }
   ],
   "source": [
    "x = int(input(\"Enter a number \"))\n",
    "if x>0:\n",
    "    print(\"Positive\")\n",
    "else:\n",
    "    print(\"Negative\")"
   ]
  },
  {
   "cell_type": "markdown",
   "id": "0b81fe41",
   "metadata": {},
   "source": [
    "# 3. IF - elif - ELSE"
   ]
  },
  {
   "cell_type": "raw",
   "id": "bc9340e8",
   "metadata": {},
   "source": [
    "Accept the city and print its monument: \n",
    "Kathmandu - Pashupatinath\n",
    "Lalitpur - Patan\n",
    "Pokhara - Fewa Tal\n",
    "Jhapa - Damak\n",
    "Other- Record not found"
   ]
  },
  {
   "cell_type": "code",
   "execution_count": 26,
   "id": "14b6425f",
   "metadata": {},
   "outputs": [
    {
     "name": "stdout",
     "output_type": "stream",
     "text": [
      "Enter the city Baneshwar\n",
      "Record not found\n"
     ]
    }
   ],
   "source": [
    "city = input(\"Enter the city \")\n",
    "if city==\"Kathmandu\":\n",
    "    print(\"The monument in Kathmandu is Pashupatinath \")\n",
    "elif city==\"Lalitpur\":\n",
    "    print(\"The monument in Lalitpur is Patan \")\n",
    "elif city==\"Pokhara\":\n",
    "    print(\"The monument in Pokhara is Fewa Tal\")\n",
    "elif city==\"Jhapa\":\n",
    "    print(\"The monument in Jhapa is Damak\")\n",
    "else:\n",
    "    print(\"Record not found\")"
   ]
  }
 ],
 "metadata": {
  "kernelspec": {
   "display_name": "Python 3 (ipykernel)",
   "language": "python",
   "name": "python3"
  },
  "language_info": {
   "codemirror_mode": {
    "name": "ipython",
    "version": 3
   },
   "file_extension": ".py",
   "mimetype": "text/x-python",
   "name": "python",
   "nbconvert_exporter": "python",
   "pygments_lexer": "ipython3",
   "version": "3.11.5"
  }
 },
 "nbformat": 4,
 "nbformat_minor": 5
}
