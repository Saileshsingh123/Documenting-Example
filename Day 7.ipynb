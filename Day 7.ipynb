{
 "cells": [
  {
   "cell_type": "markdown",
   "id": "1ead34ca",
   "metadata": {},
   "source": [
    "# Day - 7"
   ]
  },
  {
   "cell_type": "markdown",
   "id": "ce5aa0e8",
   "metadata": {},
   "source": [
    "# Strings in Python"
   ]
  },
  {
   "cell_type": "markdown",
   "id": "18ad8468",
   "metadata": {},
   "source": [
    "# 1. Creating string in python"
   ]
  },
  {
   "cell_type": "code",
   "execution_count": 7,
   "id": "7daf6bb6",
   "metadata": {},
   "outputs": [
    {
     "name": "stdout",
     "output_type": "stream",
     "text": [
      "We are learning python and this is our Day 7 class\n"
     ]
    }
   ],
   "source": [
    "a = 'We are learning python and this is our Day 7 class'\n",
    "print(a)\n"
   ]
  },
  {
   "cell_type": "code",
   "execution_count": 3,
   "id": "cce043cf",
   "metadata": {},
   "outputs": [
    {
     "name": "stdout",
     "output_type": "stream",
     "text": [
      "We are learning python and this is our Day 7 class\n",
      "<class 'str'>\n"
     ]
    }
   ],
   "source": [
    "b = \"We are learning python and this is our Day 7 class\"\n",
    "print(b)\n",
    "print(type(b))"
   ]
  },
  {
   "cell_type": "markdown",
   "id": "cc668ac9",
   "metadata": {},
   "source": [
    "# 2. MUlti line strings"
   ]
  },
  {
   "cell_type": "code",
   "execution_count": 4,
   "id": "e5d8cd12",
   "metadata": {},
   "outputs": [
    {
     "name": "stdout",
     "output_type": "stream",
     "text": [
      "नेपाल [nepal]) is a landlocked country in South Asia. It is mainly situated in the Himalayas, but also includes parts of the Indo-Gangetic Plain. It borders the Tibet Autonomous Region of China to the north, and India in the south, east, and west, while it is narrowly separated from Bangladesh by the Siliguri Corridor, and from Bhutan by the Indian state of Sikkim. Nepal has a diverse geography, including fertile plains, subalpine forested hills, and eight of the world's ten tallest mountains, including Mount Everest, the highest point on Earth. Kathmandu is the nation's capital and the largest city. Nepal is a multi-ethnic, multi-lingual, multi-religious and multi-cultural state, with Nepali as the official language.\n"
     ]
    }
   ],
   "source": [
    "b = \"नेपाल [nepal]) is a landlocked country in South Asia. It is mainly situated in the Himalayas, but also includes parts of the Indo-Gangetic Plain. It borders the Tibet Autonomous Region of China to the north, and India in the south, east, and west, while it is narrowly separated from Bangladesh by the Siliguri Corridor, and from Bhutan by the Indian state of Sikkim. Nepal has a diverse geography, including fertile plains, subalpine forested hills, and eight of the world's ten tallest mountains, including Mount Everest, the highest point on Earth. Kathmandu is the nation's capital and the largest city. Nepal is a multi-ethnic, multi-lingual, multi-religious and multi-cultural state, with Nepali as the official language.\"\n",
    "print(b)"
   ]
  },
  {
   "cell_type": "code",
   "execution_count": 9,
   "id": "8ae7e785",
   "metadata": {},
   "outputs": [
    {
     "name": "stdout",
     "output_type": "stream",
     "text": [
      "नेपाल [nepal]) is a landlocked country in South Asia.\n",
      "It is mainly situated in the Himalayas, but also includes parts of the Indo-Gangetic Plain.\n",
      "It borders the Tibet Autonomous Region of China to the north, and India in the south, east, and west,\n",
      "while it is narrowly separated from Bangladesh by the Siliguri Corridor, \n",
      "and from Bhutan by the Indian state of Sikkim. Nepal has a diverse geography,\n",
      "including fertile plains, subalpine forested hills, \n",
      "and eight of the world's ten tallest mountains, including Mount Everest, \n",
      "the highest point on Earth. Kathmandu is the nation's capital and the largest city.\n",
      "Nepal is a multi-ethnic, multi-lingual, multi-religious and multi-cultural state, \n",
      "with Nepali as the official language.\n",
      "731\n"
     ]
    }
   ],
   "source": [
    "b =\"\"\"नेपाल [nepal]) is a landlocked country in South Asia.\n",
    "It is mainly situated in the Himalayas, but also includes parts of the Indo-Gangetic Plain.\n",
    "It borders the Tibet Autonomous Region of China to the north, and India in the south, east, and west,\n",
    "while it is narrowly separated from Bangladesh by the Siliguri Corridor, \n",
    "and from Bhutan by the Indian state of Sikkim. Nepal has a diverse geography,\n",
    "including fertile plains, subalpine forested hills, \n",
    "and eight of the world's ten tallest mountains, including Mount Everest, \n",
    "the highest point on Earth. Kathmandu is the nation's capital and the largest city.\n",
    "Nepal is a multi-ethnic, multi-lingual, multi-religious and multi-cultural state, \n",
    "with Nepali as the official language.\"\"\"\n",
    "print(b)\n",
    "print(len(b))"
   ]
  },
  {
   "cell_type": "markdown",
   "id": "ad60f40c",
   "metadata": {},
   "source": [
    "# 3. Indexing of strings "
   ]
  },
  {
   "cell_type": "code",
   "execution_count": 13,
   "id": "c44effb3",
   "metadata": {},
   "outputs": [
    {
     "name": "stdout",
     "output_type": "stream",
     "text": [
      "n\n"
     ]
    }
   ],
   "source": [
    "a = \"Hello Students\"\n",
    "print(a[11])"
   ]
  },
  {
   "cell_type": "code",
   "execution_count": 14,
   "id": "064c722c",
   "metadata": {},
   "outputs": [
    {
     "name": "stdout",
     "output_type": "stream",
     "text": [
      "t\n"
     ]
    }
   ],
   "source": [
    "a = \"Hello Students\"\n",
    "print(a[-2])"
   ]
  },
  {
   "cell_type": "code",
   "execution_count": 15,
   "id": "fdffaf3b",
   "metadata": {},
   "outputs": [
    {
     "name": "stdout",
     "output_type": "stream",
     "text": [
      "s\n"
     ]
    }
   ],
   "source": [
    "a = \"How's your study going on ?\"\n",
    "print(a[11])"
   ]
  },
  {
   "cell_type": "code",
   "execution_count": 16,
   "id": "d9ddc45c",
   "metadata": {},
   "outputs": [
    {
     "name": "stdout",
     "output_type": "stream",
     "text": [
      "?\n"
     ]
    }
   ],
   "source": [
    "a = \"How's your study going on ?\"\n",
    "print(a[-1])"
   ]
  },
  {
   "cell_type": "markdown",
   "id": "31349918",
   "metadata": {},
   "source": [
    "# 4. Slicing of strings\n"
   ]
  },
  {
   "cell_type": "markdown",
   "id": "0d868a61",
   "metadata": {},
   "source": [
    "Hello students how are you : REMOVE( students how)- This is called slicing"
   ]
  },
  {
   "cell_type": "code",
   "execution_count": 21,
   "id": "78564bfa",
   "metadata": {},
   "outputs": [
    {
     "name": "stdout",
     "output_type": "stream",
     "text": [
      "students how\n"
     ]
    }
   ],
   "source": [
    "s = \"Hello students how are you ?\"\n",
    "print(s[6:18])"
   ]
  },
  {
   "cell_type": "code",
   "execution_count": 18,
   "id": "2c8e5614",
   "metadata": {},
   "outputs": [
    {
     "name": "stdout",
     "output_type": "stream",
     "text": [
      "Hello\n"
     ]
    }
   ],
   "source": [
    "s = \"Hello students how are you ?\"\n",
    "print(s[0:5])"
   ]
  },
  {
   "cell_type": "code",
   "execution_count": 4,
   "id": "d54073fc",
   "metadata": {},
   "outputs": [
    {
     "name": "stdout",
     "output_type": "stream",
     "text": [
      "Hlosuet o \n"
     ]
    }
   ],
   "source": [
    "s = \"Hello students how are you ?\"\n",
    "print(s[0:20:2])"
   ]
  },
  {
   "cell_type": "markdown",
   "id": "c22b53ab",
   "metadata": {},
   "source": [
    "# Reverse string"
   ]
  },
  {
   "cell_type": "code",
   "execution_count": 7,
   "id": "e255e266",
   "metadata": {},
   "outputs": [
    {
     "name": "stdout",
     "output_type": "stream",
     "text": [
      "? uoy era woh stneduts olleH\n"
     ]
    }
   ],
   "source": [
    "s = \"Hello students how are you ?\"\n",
    "print(s[::-1])"
   ]
  },
  {
   "cell_type": "markdown",
   "id": "0d70cbe0",
   "metadata": {},
   "source": [
    "# 5. Finding the length of a string"
   ]
  },
  {
   "cell_type": "code",
   "execution_count": 10,
   "id": "cca020a3",
   "metadata": {},
   "outputs": [
    {
     "name": "stdout",
     "output_type": "stream",
     "text": [
      "30\n"
     ]
    }
   ],
   "source": [
    "a = \"This is our day 7 python class\"\n",
    "print(len(a))"
   ]
  },
  {
   "cell_type": "code",
   "execution_count": 12,
   "id": "93c4b693",
   "metadata": {},
   "outputs": [
    {
     "name": "stdout",
     "output_type": "stream",
     "text": [
      "Hello world\n",
      "11\n"
     ]
    }
   ],
   "source": [
    "b = \"Hello world\"\n",
    "print(b)\n",
    "print(len(b))"
   ]
  },
  {
   "cell_type": "markdown",
   "id": "d832f143",
   "metadata": {},
   "source": [
    "# 6. Upper method"
   ]
  },
  {
   "cell_type": "code",
   "execution_count": 13,
   "id": "40f3b0af",
   "metadata": {},
   "outputs": [
    {
     "name": "stdout",
     "output_type": "stream",
     "text": [
      "HELLO HOW ARE YOU\n"
     ]
    }
   ],
   "source": [
    "a = \"hello how are you\"\n",
    "print(a.upper())"
   ]
  },
  {
   "cell_type": "markdown",
   "id": "c715c6db",
   "metadata": {},
   "source": [
    "# 7. Lower method"
   ]
  },
  {
   "cell_type": "code",
   "execution_count": 14,
   "id": "83dac5be",
   "metadata": {},
   "outputs": [
    {
     "name": "stdout",
     "output_type": "stream",
     "text": [
      "how are you\n"
     ]
    }
   ],
   "source": [
    "b = \"HOW ARE YOU\"\n",
    "print(b.lower())"
   ]
  },
  {
   "cell_type": "markdown",
   "id": "8a067dfc",
   "metadata": {},
   "source": [
    "# 8. Replace Function"
   ]
  },
  {
   "cell_type": "code",
   "execution_count": 15,
   "id": "fa2a62db",
   "metadata": {},
   "outputs": [
    {
     "name": "stdout",
     "output_type": "stream",
     "text": [
      "Bye how are you ?\n"
     ]
    }
   ],
   "source": [
    "a = \"Hello how are you ?\"\n",
    "print(a.replace(\"Hello\", \"Bye\"))"
   ]
  },
  {
   "cell_type": "code",
   "execution_count": 16,
   "id": "1aa61bfd",
   "metadata": {},
   "outputs": [
    {
     "name": "stdout",
     "output_type": "stream",
     "text": [
      "Hello world\n",
      "Hello students\n"
     ]
    }
   ],
   "source": [
    "b = \"Hello world\"\n",
    "print(b)\n",
    "print(b.replace(\"world\", \"students\"))"
   ]
  },
  {
   "cell_type": "markdown",
   "id": "e7137916",
   "metadata": {},
   "source": [
    "# 9. Find method "
   ]
  },
  {
   "cell_type": "code",
   "execution_count": 20,
   "id": "6dc7bb3e",
   "metadata": {},
   "outputs": [
    {
     "name": "stdout",
     "output_type": "stream",
     "text": [
      "10\n"
     ]
    }
   ],
   "source": [
    "a = \"Python is great\"\n",
    "b = a.find(\"g\")\n",
    "print(b)"
   ]
  },
  {
   "cell_type": "code",
   "execution_count": 22,
   "id": "099d82e8",
   "metadata": {},
   "outputs": [
    {
     "name": "stdout",
     "output_type": "stream",
     "text": [
      "0\n"
     ]
    }
   ],
   "source": [
    "a = \"Python is great\"\n",
    "b= a.find(\"P\")\n",
    "print(b)"
   ]
  },
  {
   "cell_type": "code",
   "execution_count": null,
   "id": "09834c8c",
   "metadata": {},
   "outputs": [],
   "source": []
  }
 ],
 "metadata": {
  "kernelspec": {
   "display_name": "Python 3 (ipykernel)",
   "language": "python",
   "name": "python3"
  },
  "language_info": {
   "codemirror_mode": {
    "name": "ipython",
    "version": 3
   },
   "file_extension": ".py",
   "mimetype": "text/x-python",
   "name": "python",
   "nbconvert_exporter": "python",
   "pygments_lexer": "ipython3",
   "version": "3.11.5"
  }
 },
 "nbformat": 4,
 "nbformat_minor": 5
}
