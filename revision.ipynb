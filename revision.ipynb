{
 "cells": [
  {
   "cell_type": "code",
   "execution_count": null,
   "id": "d8fb21f6",
   "metadata": {},
   "outputs": [],
   "source": [
    "#list \n",
    "How to define a list?\n",
    "users=['raju','sham','paul']\n",
    "\n",
    "How to get values from list?\n",
    "users[0]\n",
    "users[1]\n",
    "users[-1]"
   ]
  },
  {
   "cell_type": "code",
   "execution_count": 8,
   "id": "45c49213",
   "metadata": {},
   "outputs": [
    {
     "name": "stdout",
     "output_type": "stream",
     "text": [
      "['Alex', 'Raju', 'Sham', 'Baburao']\n"
     ]
    }
   ],
   "source": [
    "user_list= ['Alex','Raju','Sham','Baburao']\n",
    "print(user_list)\n",
    "\n"
   ]
  },
  {
   "cell_type": "code",
   "execution_count": 4,
   "id": "7ae6ee4a",
   "metadata": {},
   "outputs": [
    {
     "name": "stdout",
     "output_type": "stream",
     "text": [
      "Alex\n"
     ]
    }
   ],
   "source": [
    "user_list= ['Alex','Raju','Sham','Baburao']\n",
    "print(user_list[0])\n"
   ]
  },
  {
   "cell_type": "code",
   "execution_count": 6,
   "id": "244e7f7a",
   "metadata": {},
   "outputs": [
    {
     "name": "stdout",
     "output_type": "stream",
     "text": [
      "Raju\n"
     ]
    }
   ],
   "source": [
    "user_list= ['Alex','Raju','Sham','Baburao']\n",
    "print(user_list[1])\n"
   ]
  },
  {
   "cell_type": "code",
   "execution_count": null,
   "id": "b407f953",
   "metadata": {},
   "outputs": [],
   "source": [
    "#adding item to a list?\n",
    "users.append('alex')\n",
    "#how to delete values from a list?\n",
    "users.remove('raju')\n",
    "how to modify values from list?\n",
    "users[1]='sham'"
   ]
  },
  {
   "cell_type": "code",
   "execution_count": 10,
   "id": "cdf60a8a",
   "metadata": {},
   "outputs": [
    {
     "name": "stdout",
     "output_type": "stream",
     "text": [
      "['Alex', 'Raju', 'Sham', 'Baburao', 'sailesh', 'sailesh', 'sailesh']\n"
     ]
    }
   ],
   "source": [
    "user_list.append('sailesh')\n",
    "print(user_list)"
   ]
  },
  {
   "cell_type": "code",
   "execution_count": 13,
   "id": "5106605b",
   "metadata": {},
   "outputs": [
    {
     "name": "stdout",
     "output_type": "stream",
     "text": [
      "['Alex', 'Raju', 'Sham', 'Baburao']\n"
     ]
    }
   ],
   "source": [
    "user_list.remove('sailesh')\n",
    "print(user_list)"
   ]
  },
  {
   "cell_type": "code",
   "execution_count": 14,
   "id": "ecb7adbd",
   "metadata": {},
   "outputs": [
    {
     "name": "stdout",
     "output_type": "stream",
     "text": [
      "['Alex', 'Sailesh', 'Sham', 'Baburao']\n"
     ]
    }
   ],
   "source": [
    "user_list[1]= \"Sailesh\"\n",
    "print(user_list)\n"
   ]
  },
  {
   "cell_type": "code",
   "execution_count": 1,
   "id": "9496b290",
   "metadata": {},
   "outputs": [
    {
     "data": {
      "text/plain": [
       "90"
      ]
     },
     "execution_count": 1,
     "metadata": {},
     "output_type": "execute_result"
    }
   ],
   "source": [
    "_=90\n",
    "_"
   ]
  },
  {
   "cell_type": "code",
   "execution_count": 2,
   "id": "bb0428ed",
   "metadata": {},
   "outputs": [
    {
     "data": {
      "text/plain": [
       "90"
      ]
     },
     "execution_count": 2,
     "metadata": {},
     "output_type": "execute_result"
    }
   ],
   "source": [
    "_u=90\n",
    "_u"
   ]
  },
  {
   "cell_type": "code",
   "execution_count": 3,
   "id": "827f6983",
   "metadata": {},
   "outputs": [
    {
     "data": {
      "text/plain": [
       "False"
      ]
     },
     "execution_count": 3,
     "metadata": {},
     "output_type": "execute_result"
    }
   ],
   "source": [
    "0.2+0.2+0.2 == 0.6"
   ]
  },
  {
   "cell_type": "code",
   "execution_count": 4,
   "id": "8509d489",
   "metadata": {},
   "outputs": [
    {
     "data": {
      "text/plain": [
       "3.0"
      ]
     },
     "execution_count": 4,
     "metadata": {},
     "output_type": "execute_result"
    }
   ],
   "source": [
    " x=15.8\n",
    "y=4\n",
    "x//y"
   ]
  },
  {
   "cell_type": "code",
   "execution_count": 5,
   "id": "8cb06378",
   "metadata": {},
   "outputs": [
    {
     "data": {
      "text/plain": [
       "-3"
      ]
     },
     "execution_count": 5,
     "metadata": {},
     "output_type": "execute_result"
    }
   ],
   "source": [
    "-5//2"
   ]
  },
  {
   "cell_type": "code",
   "execution_count": 6,
   "id": "3db105a9",
   "metadata": {},
   "outputs": [
    {
     "data": {
      "text/plain": [
       "int"
      ]
     },
     "execution_count": 6,
     "metadata": {},
     "output_type": "execute_result"
    }
   ],
   "source": [
    " x=10\n",
    "type(id(x))"
   ]
  },
  {
   "cell_type": "code",
   "execution_count": 7,
   "id": "09350772",
   "metadata": {},
   "outputs": [
    {
     "data": {
      "text/plain": [
       "7"
      ]
     },
     "execution_count": 7,
     "metadata": {},
     "output_type": "execute_result"
    }
   ],
   "source": [
    " 7 or 5<4"
   ]
  },
  {
   "cell_type": "code",
   "execution_count": 8,
   "id": "9636d477",
   "metadata": {},
   "outputs": [
    {
     "name": "stdout",
     "output_type": "stream",
     "text": [
      "sailesh wwww.facebook.in\n"
     ]
    }
   ],
   "source": [
    "print('sailesh','wwww.facebook.in')"
   ]
  },
  {
   "cell_type": "code",
   "execution_count": 18,
   "id": "8400516c",
   "metadata": {},
   "outputs": [
    {
     "name": "stdout",
     "output_type": "stream",
     "text": [
      "hello world\n"
     ]
    }
   ],
   "source": [
    " print(\"hello\", end=\" \")\n",
    "print('world')\n"
   ]
  },
  {
   "cell_type": "code",
   "execution_count": 20,
   "id": "59db6a5b",
   "metadata": {},
   "outputs": [
    {
     "name": "stdout",
     "output_type": "stream",
     "text": [
      "4.234100\n"
     ]
    }
   ],
   "source": [
    "x=4.2341\n",
    "print('%f'%x)"
   ]
  },
  {
   "cell_type": "code",
   "execution_count": 21,
   "id": "80910d32",
   "metadata": {},
   "outputs": [
    {
     "name": "stdout",
     "output_type": "stream",
     "text": [
      "15 6\n"
     ]
    }
   ],
   "source": [
    "a,b=5,3\n",
    "a,b,a=a+1,b+3,a+10\n",
    "print(a,b)"
   ]
  },
  {
   "cell_type": "code",
   "execution_count": 22,
   "id": "90e93fcb",
   "metadata": {},
   "outputs": [
    {
     "ename": "IndentationError",
     "evalue": "unexpected indent (3012561089.py, line 2)",
     "output_type": "error",
     "traceback": [
      "\u001b[1;36m  Cell \u001b[1;32mIn[22], line 2\u001b[1;36m\u001b[0m\n\u001b[1;33m    id(x)\u001b[0m\n\u001b[1;37m    ^\u001b[0m\n\u001b[1;31mIndentationError\u001b[0m\u001b[1;31m:\u001b[0m unexpected indent\n"
     ]
    }
   ],
   "source": [
    " x=10\n",
    "    id(x)"
   ]
  },
  {
   "cell_type": "code",
   "execution_count": 27,
   "id": "173579fb",
   "metadata": {},
   "outputs": [
    {
     "name": "stdout",
     "output_type": "stream",
     "text": [
      "r\n",
      "a\n",
      "m\n",
      "a\n"
     ]
    }
   ],
   "source": [
    "for i in 'rama':\n",
    "  print(i)"
   ]
  },
  {
   "cell_type": "code",
   "execution_count": 29,
   "id": "f67cc768",
   "metadata": {},
   "outputs": [
    {
     "name": "stdout",
     "output_type": "stream",
     "text": [
      "r\n"
     ]
    }
   ],
   "source": [
    "for i in \"ramayan\":\n",
    "    if i =='a':\n",
    "        break\n",
    "    else:\n",
    "            print(i)\n",
    "        "
   ]
  },
  {
   "cell_type": "code",
   "execution_count": 33,
   "id": "1fd3770c",
   "metadata": {},
   "outputs": [
    {
     "name": "stdout",
     "output_type": "stream",
     "text": [
      "divisible by 4\n"
     ]
    }
   ],
   "source": [
    "x=100\n",
    "if x%4==0:\n",
    "    print('divisible by 4')\n",
    "elif x%10==0:\n",
    "    print(\"divisible by 10\")\n",
    "else:\n",
    "        print('not divisible')"
   ]
  },
  {
   "cell_type": "code",
   "execution_count": 35,
   "id": "0531a12b",
   "metadata": {},
   "outputs": [
    {
     "name": "stdout",
     "output_type": "stream",
     "text": [
      "4\n"
     ]
    }
   ],
   "source": [
    "lst=[1,2,3,4,5];\n",
    "print(lst[3])"
   ]
  },
  {
   "cell_type": "code",
   "execution_count": 37,
   "id": "d4039c67",
   "metadata": {},
   "outputs": [
    {
     "name": "stdout",
     "output_type": "stream",
     "text": [
      "4\n"
     ]
    }
   ],
   "source": [
    "lst=[1,2,3,4,5];\n",
    "print(lst[3])"
   ]
  },
  {
   "cell_type": "code",
   "execution_count": 38,
   "id": "646bf686",
   "metadata": {},
   "outputs": [
    {
     "ename": "IndentationError",
     "evalue": "expected an indented block after function definition on line 1 (608399684.py, line 2)",
     "output_type": "error",
     "traceback": [
      "\u001b[1;36m  Cell \u001b[1;32mIn[38], line 2\u001b[1;36m\u001b[0m\n\u001b[1;33m    return a + b\u001b[0m\n\u001b[1;37m    ^\u001b[0m\n\u001b[1;31mIndentationError\u001b[0m\u001b[1;31m:\u001b[0m expected an indented block after function definition on line 1\n"
     ]
    }
   ],
   "source": [
    "def add_numbers(a, b=0, *args, **kwargs):     \n",
    "return a + b \n",
    "\n",
    "result = add_numbers(3, 5, 7, 9) \n",
    "print(result)"
   ]
  },
  {
   "cell_type": "code",
   "execution_count": null,
   "id": "3f9db85a",
   "metadata": {},
   "outputs": [],
   "source": []
  }
 ],
 "metadata": {
  "kernelspec": {
   "display_name": "Python 3 (ipykernel)",
   "language": "python",
   "name": "python3"
  },
  "language_info": {
   "codemirror_mode": {
    "name": "ipython",
    "version": 3
   },
   "file_extension": ".py",
   "mimetype": "text/x-python",
   "name": "python",
   "nbconvert_exporter": "python",
   "pygments_lexer": "ipython3",
   "version": "3.11.5"
  }
 },
 "nbformat": 4,
 "nbformat_minor": 5
}
