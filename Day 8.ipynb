{
 "cells": [
  {
   "cell_type": "markdown",
   "id": "9ce99b8c",
   "metadata": {},
   "source": [
    "# Day -8"
   ]
  },
  {
   "cell_type": "markdown",
   "id": "ae6264a7",
   "metadata": {},
   "source": [
    "# List in python"
   ]
  },
  {
   "cell_type": "markdown",
   "id": "f8f58d30",
   "metadata": {},
   "source": [
    "# 1. Creating a list"
   ]
  },
  {
   "cell_type": "code",
   "execution_count": 2,
   "id": "9d6fa4f3",
   "metadata": {},
   "outputs": [
    {
     "name": "stdout",
     "output_type": "stream",
     "text": [
      "['apple', 'banana', 'cherry']\n",
      "<class 'list'>\n"
     ]
    }
   ],
   "source": [
    "mylist = [\"apple\",\"banana\",\"cherry\"]\n",
    "print(mylist)\n",
    "print(type(mylist))"
   ]
  },
  {
   "cell_type": "markdown",
   "id": "8ed08aeb",
   "metadata": {},
   "source": [
    "# 2. Allow duplicates"
   ]
  },
  {
   "cell_type": "code",
   "execution_count": 3,
   "id": "c6b9fe94",
   "metadata": {},
   "outputs": [
    {
     "name": "stdout",
     "output_type": "stream",
     "text": [
      "['apple', 'banana', 'apple', 'cherry', 'banana', 'apple']\n"
     ]
    }
   ],
   "source": [
    "mylist = [\"apple\",\"banana\",\"apple\",\"cherry\",\"banana\",\"apple\"]\n",
    "print(mylist)"
   ]
  },
  {
   "cell_type": "markdown",
   "id": "047e74d8",
   "metadata": {},
   "source": [
    "# 3. Data types"
   ]
  },
  {
   "cell_type": "code",
   "execution_count": 4,
   "id": "54146efe",
   "metadata": {},
   "outputs": [
    {
     "name": "stdout",
     "output_type": "stream",
     "text": [
      "['apple', 'banana', 'cherry']\n",
      "[2, 5, 8]\n",
      "[2.5, 4.6, 5.9]\n",
      "[True, False, True]\n"
     ]
    }
   ],
   "source": [
    "list1 = [\"apple\",\"banana\",\"cherry\"]\n",
    "list2 = [2,5,8]\n",
    "list3 = [2.5,4.6,5.9]\n",
    "list4 = [True,False ,True]\n",
    "print(list1)\n",
    "print(list2)\n",
    "print(list3)\n",
    "print(list4)"
   ]
  },
  {
   "cell_type": "code",
   "execution_count": 5,
   "id": "3220ceae",
   "metadata": {},
   "outputs": [
    {
     "name": "stdout",
     "output_type": "stream",
     "text": [
      "[12, -8, -5, -7, 2.5, 2.7, 2.9, 'studemts', ' hello', True, False]\n"
     ]
    }
   ],
   "source": [
    "list = [12,-8,-5,-7,2.5,2.7,2.9, \"studemts\",\" hello\", True , False]\n",
    "print(list)"
   ]
  },
  {
   "cell_type": "markdown",
   "id": "ddc36572",
   "metadata": {},
   "source": [
    "# 4. List Length"
   ]
  },
  {
   "cell_type": "code",
   "execution_count": 6,
   "id": "e497c7a7",
   "metadata": {},
   "outputs": [
    {
     "name": "stdout",
     "output_type": "stream",
     "text": [
      "11\n"
     ]
    }
   ],
   "source": [
    "list = [12,-8,-5,-7,2.5,2.7,2.9, \"studemts\",\" hello\", True , False]\n",
    "print(len(list))"
   ]
  },
  {
   "cell_type": "code",
   "execution_count": 9,
   "id": "bf68600b",
   "metadata": {},
   "outputs": [
    {
     "name": "stdout",
     "output_type": "stream",
     "text": [
      "10\n"
     ]
    }
   ],
   "source": [
    "b = [15,8,9,3,4,6,7,8,9,25]\n",
    "print(len(b))"
   ]
  },
  {
   "cell_type": "markdown",
   "id": "ae1f29b8",
   "metadata": {},
   "source": [
    "# 5. Access Item"
   ]
  },
  {
   "cell_type": "code",
   "execution_count": 11,
   "id": "e3a24a71",
   "metadata": {},
   "outputs": [
    {
     "name": "stdout",
     "output_type": "stream",
     "text": [
      "15\n"
     ]
    }
   ],
   "source": [
    "thislist = [12,15,26,78,25,96,142,52,22,6,5]\n",
    "print(thislist[1])"
   ]
  },
  {
   "cell_type": "code",
   "execution_count": 12,
   "id": "4fe175b6",
   "metadata": {},
   "outputs": [
    {
     "name": "stdout",
     "output_type": "stream",
     "text": [
      "22\n"
     ]
    }
   ],
   "source": [
    "thislist = [12,15,26,78,25,96,142,52,22,6,5]\n",
    "print(thislist[8])"
   ]
  },
  {
   "cell_type": "code",
   "execution_count": 13,
   "id": "aff9cf82",
   "metadata": {},
   "outputs": [
    {
     "name": "stdout",
     "output_type": "stream",
     "text": [
      "5\n"
     ]
    }
   ],
   "source": [
    "thislist = [12,15,26,78,25,96,142,52,22,6,5]\n",
    "print(thislist[-1])"
   ]
  },
  {
   "cell_type": "code",
   "execution_count": 14,
   "id": "0f870a08",
   "metadata": {},
   "outputs": [
    {
     "name": "stdout",
     "output_type": "stream",
     "text": [
      "96\n"
     ]
    }
   ],
   "source": [
    "thislist = [12,15,26,78,25,96,142,52,22,6,5]\n",
    "print(thislist[-6])"
   ]
  },
  {
   "cell_type": "markdown",
   "id": "6cd1ea3a",
   "metadata": {},
   "source": [
    "# 6. Slicing of list"
   ]
  },
  {
   "cell_type": "code",
   "execution_count": 15,
   "id": "6ab1e009",
   "metadata": {},
   "outputs": [
    {
     "name": "stdout",
     "output_type": "stream",
     "text": [
      "[12, 15, 26, 78, 25]\n"
     ]
    }
   ],
   "source": [
    "thislist = [12,15,26,78,25,96,142,52,22,6,5]\n",
    "print(thislist[0 : 5])"
   ]
  },
  {
   "cell_type": "code",
   "execution_count": 16,
   "id": "18c466e4",
   "metadata": {},
   "outputs": [
    {
     "name": "stdout",
     "output_type": "stream",
     "text": [
      "[78, 25, 96, 142, 52, 22]\n"
     ]
    }
   ],
   "source": [
    "thislist = [12,15,26,78,25,96,142,52,22,6,5]\n",
    "print(thislist[3 : 9])"
   ]
  },
  {
   "cell_type": "code",
   "execution_count": 17,
   "id": "952c9475",
   "metadata": {},
   "outputs": [
    {
     "name": "stdout",
     "output_type": "stream",
     "text": [
      "[12, 26, 25, 142, 22, 5]\n"
     ]
    }
   ],
   "source": [
    "thislist = [12,15,26,78,25,96,142,52,22,6,5]\n",
    "print(thislist[::2])"
   ]
  },
  {
   "cell_type": "markdown",
   "id": "f7668711",
   "metadata": {},
   "source": [
    "# 7. Change items"
   ]
  },
  {
   "cell_type": "code",
   "execution_count": 18,
   "id": "273e3855",
   "metadata": {},
   "outputs": [
    {
     "name": "stdout",
     "output_type": "stream",
     "text": [
      "['apple', 'strawberry', 'cherry']\n"
     ]
    }
   ],
   "source": [
    "thislist = [\"apple\",\"banana\",\"cherry\"]\n",
    "thislist[1] = \"strawberry\"\n",
    "print(thislist)"
   ]
  },
  {
   "cell_type": "code",
   "execution_count": 19,
   "id": "a5bdab33",
   "metadata": {},
   "outputs": [
    {
     "name": "stdout",
     "output_type": "stream",
     "text": [
      "[12, 14, 15, 16, 8, 'students', -5, -4, -9]\n"
     ]
    }
   ],
   "source": [
    "a = [12,14,15,16,8,9,-5,-4,-9]\n",
    "a[5] = \"students\"\n",
    "print(a)"
   ]
  },
  {
   "cell_type": "markdown",
   "id": "1752eaa8",
   "metadata": {},
   "source": [
    "# 8. Change a range of item value "
   ]
  },
  {
   "cell_type": "code",
   "execution_count": 20,
   "id": "e5ddaa3f",
   "metadata": {},
   "outputs": [
    {
     "name": "stdout",
     "output_type": "stream",
     "text": [
      "[12, 14, 'Books', 'Pen', 'Paper', 8, 9, -5, -4, -9]\n"
     ]
    }
   ],
   "source": [
    "a = [12,14,15,16,8,9,-5,-4,-9]\n",
    "a[2:4]= [\"Books\", \"Pen\", \"Paper\"]\n",
    "print(a)"
   ]
  },
  {
   "cell_type": "markdown",
   "id": "096882fd",
   "metadata": {},
   "source": [
    "# 9. To add item in a list"
   ]
  },
  {
   "cell_type": "code",
   "execution_count": 21,
   "id": "ad31327b",
   "metadata": {},
   "outputs": [
    {
     "name": "stdout",
     "output_type": "stream",
     "text": [
      "[12, 14, 15, 78, 96, 25, -9]\n"
     ]
    }
   ],
   "source": [
    "a = [12,14,15,78,96,25]\n",
    "a.append(-9)\n",
    "print(a)"
   ]
  },
  {
   "cell_type": "markdown",
   "id": "bc8012c6",
   "metadata": {},
   "source": [
    "# 10. To REMOVE item in a list"
   ]
  },
  {
   "cell_type": "code",
   "execution_count": 22,
   "id": "276ddea8",
   "metadata": {},
   "outputs": [
    {
     "name": "stdout",
     "output_type": "stream",
     "text": [
      "[12, 45, 25, 'paper', 'pen', 56, 23]\n"
     ]
    }
   ],
   "source": [
    "a = [78,12,45,25,\"paper\",\"pen\",56,23]\n",
    "a.remove(78)\n",
    "print(a)"
   ]
  },
  {
   "cell_type": "markdown",
   "id": "70622337",
   "metadata": {},
   "source": [
    "# 11. Reverse "
   ]
  },
  {
   "cell_type": "code",
   "execution_count": 23,
   "id": "1eaf1c63",
   "metadata": {},
   "outputs": [
    {
     "name": "stdout",
     "output_type": "stream",
     "text": [
      "[23, 56, 'pen', 'paper', 25, 45, 12, 78]\n"
     ]
    }
   ],
   "source": [
    "a = [78,12,45,25,\"paper\",\"pen\",56,23]\n",
    "a.reverse()\n",
    "print(a)"
   ]
  },
  {
   "cell_type": "markdown",
   "id": "a4df272e",
   "metadata": {},
   "source": [
    "# 12. Sum of list"
   ]
  },
  {
   "cell_type": "code",
   "execution_count": 28,
   "id": "9bf8df7b",
   "metadata": {},
   "outputs": [
    {
     "name": "stdout",
     "output_type": "stream",
     "text": [
      "13\n",
      "The sum of list is  475\n"
     ]
    }
   ],
   "source": [
    "l = [14,15,12,78,-9,23,-8,52,74,89,25,102,8]\n",
    "print(len(l))\n",
    "a = 0\n",
    "for i in range(13):\n",
    "    a = a + l[i]\n",
    "    i = i+1\n",
    "print(\"The sum of list is \" ,a)\n",
    " "
   ]
  },
  {
   "cell_type": "markdown",
   "id": "5672652b",
   "metadata": {},
   "source": [
    "# Multiply all the number of a list "
   ]
  },
  {
   "cell_type": "code",
   "execution_count": 3,
   "id": "04b647d0",
   "metadata": {},
   "outputs": [
    {
     "name": "stdout",
     "output_type": "stream",
     "text": [
      "10\n",
      "The multiplication of list is  1\n",
      "The multiplication of list is  2\n",
      "The multiplication of list is  6\n",
      "The multiplication of list is  24\n",
      "The multiplication of list is  120\n",
      "The multiplication of list is  720\n",
      "The multiplication of list is  5040\n",
      "The multiplication of list is  40320\n",
      "The multiplication of list is  362880\n",
      "The multiplication of list is  3628800\n"
     ]
    }
   ],
   "source": [
    "a = [1,2,3,4,5,6,7,8,9,10]\n",
    "print(len(a))\n",
    "m = 1\n",
    "for i in range(10):\n",
    "    m = m*a[i]\n",
    "    i = i+1\n",
    "    print(\"The multiplication of list is \", m)"
   ]
  },
  {
   "cell_type": "code",
   "execution_count": null,
   "id": "f1eca5c0",
   "metadata": {},
   "outputs": [],
   "source": []
  },
  {
   "cell_type": "code",
   "execution_count": null,
   "id": "d7c378a4",
   "metadata": {},
   "outputs": [],
   "source": []
  }
 ],
 "metadata": {
  "kernelspec": {
   "display_name": "Python 3 (ipykernel)",
   "language": "python",
   "name": "python3"
  },
  "language_info": {
   "codemirror_mode": {
    "name": "ipython",
    "version": 3
   },
   "file_extension": ".py",
   "mimetype": "text/x-python",
   "name": "python",
   "nbconvert_exporter": "python",
   "pygments_lexer": "ipython3",
   "version": "3.11.5"
  }
 },
 "nbformat": 4,
 "nbformat_minor": 5
}
