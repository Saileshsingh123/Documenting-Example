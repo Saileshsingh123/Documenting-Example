{
 "cells": [
  {
   "cell_type": "markdown",
   "id": "d5903075",
   "metadata": {},
   "source": [
    "# Day 1 - This is the first class of python\n"
   ]
  },
  {
   "cell_type": "markdown",
   "id": "d3519f7a",
   "metadata": {},
   "source": [
    "We are going to write our first program"
   ]
  },
  {
   "cell_type": "code",
   "execution_count": 3,
   "id": "a80b29af",
   "metadata": {},
   "outputs": [
    {
     "name": "stdout",
     "output_type": "stream",
     "text": [
      "Hello world. This is an amazing python class\n"
     ]
    }
   ],
   "source": [
    "print(\"Hello world. This is an amazing python class\")"
   ]
  },
  {
   "cell_type": "code",
   "execution_count": 4,
   "id": "61b4a4b9",
   "metadata": {},
   "outputs": [
    {
     "name": "stdout",
     "output_type": "stream",
     "text": [
      "5\n"
     ]
    }
   ],
   "source": [
    " print(2+3)"
   ]
  },
  {
   "cell_type": "markdown",
   "id": "5a34337c",
   "metadata": {},
   "source": [
    "# python comments\n",
    "\n"
   ]
  },
  {
   "cell_type": "code",
   "execution_count": 5,
   "id": "e14e94d2",
   "metadata": {},
   "outputs": [
    {
     "name": "stdout",
     "output_type": "stream",
     "text": [
      "Hello World\n"
     ]
    }
   ],
   "source": [
    "#this is comment\n",
    "print(\"Hello World\")\n"
   ]
  },
  {
   "cell_type": "markdown",
   "id": "1db1944c",
   "metadata": {},
   "source": [
    "# multiline comment"
   ]
  },
  {
   "cell_type": "code",
   "execution_count": 6,
   "id": "c613899f",
   "metadata": {},
   "outputs": [
    {
     "name": "stdout",
     "output_type": "stream",
     "text": [
      "5\n"
     ]
    }
   ],
   "source": [
    "#this is comment 1 \n",
    "#this is comment 2 \n",
    "#this is comment 3\n",
    "print(2+3)"
   ]
  },
  {
   "cell_type": "code",
   "execution_count": 7,
   "id": "bae98c70",
   "metadata": {},
   "outputs": [
    {
     "name": "stdout",
     "output_type": "stream",
     "text": [
      "11\n"
     ]
    }
   ],
   "source": [
    "\"\"\"this is our first class of python\"\"\"\n",
    "print(5+6)"
   ]
  },
  {
   "cell_type": "code",
   "execution_count": 4,
   "id": "c8e876f9",
   "metadata": {},
   "outputs": [
    {
     "name": "stdout",
     "output_type": "stream",
     "text": [
      "30\n",
      "sum of two numbers are 30\n"
     ]
    }
   ],
   "source": [
    "print(10+20)\n",
    "print(f'sum of two numbers are {10+20}')"
   ]
  },
  {
   "cell_type": "markdown",
   "id": "45e7950e",
   "metadata": {},
   "source": [
    "# multiline comments"
   ]
  },
  {
   "cell_type": "code",
   "execution_count": 5,
   "id": "c98aa6e3",
   "metadata": {},
   "outputs": [
    {
     "name": "stdout",
     "output_type": "stream",
     "text": [
      "sum of two numbers are 30\n"
     ]
    }
   ],
   "source": [
    "#this is an example of comments;\n",
    "#info about the code to understand in a project \n",
    "'''this is an example of multiline comments'''\n",
    "print(f'sum of two numbers are {10+20}')"
   ]
  },
  {
   "cell_type": "code",
   "execution_count": null,
   "id": "50131206",
   "metadata": {},
   "outputs": [],
   "source": [
    "msg = "
   ]
  }
 ],
 "metadata": {
  "kernelspec": {
   "display_name": "Python 3 (ipykernel)",
   "language": "python",
   "name": "python3"
  },
  "language_info": {
   "codemirror_mode": {
    "name": "ipython",
    "version": 3
   },
   "file_extension": ".py",
   "mimetype": "text/x-python",
   "name": "python",
   "nbconvert_exporter": "python",
   "pygments_lexer": "ipython3",
   "version": "3.11.5"
  }
 },
 "nbformat": 4,
 "nbformat_minor": 5
}
