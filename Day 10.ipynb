{
 "cells": [
  {
   "cell_type": "markdown",
   "id": "2c12e471",
   "metadata": {},
   "source": [
    "# Day 10 "
   ]
  },
  {
   "cell_type": "markdown",
   "id": "cf00a945",
   "metadata": {},
   "source": [
    "# Concept of dictionary in python"
   ]
  },
  {
   "cell_type": "markdown",
   "id": "acb2e33e",
   "metadata": {},
   "source": [
    "# 1. Creating a Dictionary"
   ]
  },
  {
   "cell_type": "code",
   "execution_count": 2,
   "id": "cc6dc9b4",
   "metadata": {},
   "outputs": [
    {
     "name": "stdout",
     "output_type": "stream",
     "text": [
      "{'ID': '123ab', 'color': 'Black', 'year': 1964}\n",
      "<class 'dict'>\n"
     ]
    }
   ],
   "source": [
    "a = {\n",
    "    \"ID\" : \"123ab\", \n",
    "    \"color\" : \"Black\",\n",
    "    \"year\" : 1964\n",
    "}\n",
    "print(a)\n",
    "print(type(a))"
   ]
  },
  {
   "cell_type": "code",
   "execution_count": 3,
   "id": "4b0b19d8",
   "metadata": {},
   "outputs": [
    {
     "name": "stdout",
     "output_type": "stream",
     "text": [
      "Black\n"
     ]
    }
   ],
   "source": [
    "a = {\n",
    "    \"ID\" : \"123ab\", \n",
    "    \"color\" : \"Black\",\n",
    "    \"year\" : 1964\n",
    "}\n",
    "print(a[\"color\"])"
   ]
  },
  {
   "cell_type": "code",
   "execution_count": 5,
   "id": "ff1bcaaf",
   "metadata": {},
   "outputs": [
    {
     "name": "stdout",
     "output_type": "stream",
     "text": [
      "{'ID': '123ab', 'color': 'Black', 'year': 2000}\n"
     ]
    }
   ],
   "source": [
    "a = {\n",
    "    \"ID\" : \"123ab\", \n",
    "    \"color\" : \"Black\",\n",
    "    \"year\" : 1964,\n",
    "    \"year\" : 2000\n",
    "}\n",
    "print(a)"
   ]
  },
  {
   "cell_type": "markdown",
   "id": "c54c37ac",
   "metadata": {},
   "source": [
    "# 2. Dictionary length "
   ]
  },
  {
   "cell_type": "code",
   "execution_count": 6,
   "id": "411d8c69",
   "metadata": {},
   "outputs": [
    {
     "name": "stdout",
     "output_type": "stream",
     "text": [
      "3\n"
     ]
    }
   ],
   "source": [
    "a = {\n",
    "    \"ID\" : \"123ab\", \n",
    "    \"color\" : \"Black\",\n",
    "    \"year\" : 1964\n",
    "}\n",
    "print(len(a))"
   ]
  },
  {
   "cell_type": "code",
   "execution_count": 8,
   "id": "4649d2a9",
   "metadata": {},
   "outputs": [
    {
     "name": "stdout",
     "output_type": "stream",
     "text": [
      "{'ID': '123ab', 'color': 'Black', 'year': 1964, 'a': [1, 2, 3, 4, 5], 'b': (2.2, 2.3, 2.4, 5.2), 'c': False}\n"
     ]
    }
   ],
   "source": [
    "dict = {\n",
    "    \"ID\" : \"123ab\", \n",
    "    \"color\" : \"Black\",\n",
    "    \"year\" : 1964,\n",
    "    'a': [1,2,3,4,5],\n",
    "    'b': (2.2,2.3,2.4,5.2),\n",
    "    'c': False \n",
    "}\n",
    "print(dict)"
   ]
  },
  {
   "cell_type": "code",
   "execution_count": 13,
   "id": "2b92a466",
   "metadata": {},
   "outputs": [
    {
     "ename": "SyntaxError",
     "evalue": "invalid syntax. Maybe you meant '==' or ':=' instead of '='? (3765921039.py, line 1)",
     "output_type": "error",
     "traceback": [
      "\u001b[1;36m  Cell \u001b[1;32mIn[13], line 1\u001b[1;36m\u001b[0m\n\u001b[1;33m    a = dict{name=\"swati\", age=25, country= \"Nepal\"}\u001b[0m\n\u001b[1;37m             ^\u001b[0m\n\u001b[1;31mSyntaxError\u001b[0m\u001b[1;31m:\u001b[0m invalid syntax. Maybe you meant '==' or ':=' instead of '='?\n"
     ]
    }
   ],
   "source": [
    "a = dict(name=\"swati\", age=25, country= \"Nepal\")\n",
    "print(a)\n",
    "print(type(a))"
   ]
  },
  {
   "cell_type": "code",
   "execution_count": 14,
   "id": "ef9c1a59",
   "metadata": {},
   "outputs": [
    {
     "name": "stdout",
     "output_type": "stream",
     "text": [
      "sailesh\n"
     ]
    }
   ],
   "source": [
    "a = {\"name\" : \"sailesh\", \"age\" : \"22\", \"country\" : \"Nepal\"}\n",
    "print(a['name'])"
   ]
  },
  {
   "cell_type": "code",
   "execution_count": 15,
   "id": "bb2baf80",
   "metadata": {},
   "outputs": [
    {
     "name": "stdout",
     "output_type": "stream",
     "text": [
      "sailesh\n"
     ]
    }
   ],
   "source": [
    "a = {\"name\" : \"sailesh\", \"age\" : \"22\", \"country\" : \"Nepal\"}\n",
    "print(a.get(\"name\"))"
   ]
  },
  {
   "cell_type": "code",
   "execution_count": 16,
   "id": "8cb04348",
   "metadata": {},
   "outputs": [
    {
     "data": {
      "text/plain": [
       "dict_keys(['name', 'age', 'country'])"
      ]
     },
     "execution_count": 16,
     "metadata": {},
     "output_type": "execute_result"
    }
   ],
   "source": [
    "a = {\"name\" : \"sailesh\", \"age\" : \"22\", \"country\" : \"Nepal\"}\n",
    "x = a.keys()\n",
    "x"
   ]
  },
  {
   "cell_type": "code",
   "execution_count": 19,
   "id": "b957c531",
   "metadata": {},
   "outputs": [
    {
     "data": {
      "text/plain": [
       "dict_values(['sailesh', '22', 'Nepal'])"
      ]
     },
     "execution_count": 19,
     "metadata": {},
     "output_type": "execute_result"
    }
   ],
   "source": [
    "a = {\"name\" : \"sailesh\", \"age\" : \"22\", \"country\" : \"Nepal\"}\n",
    "y = a.values()\n",
    "y"
   ]
  },
  {
   "cell_type": "code",
   "execution_count": 22,
   "id": "f420fc53",
   "metadata": {},
   "outputs": [
    {
     "name": "stdout",
     "output_type": "stream",
     "text": [
      "{'name': 'sailesh', 'age': 28, 'country': 'Nepal', 'gender': 'Male', 'mail_id': 'saileshsingh402@gmail.com'}\n"
     ]
    }
   ],
   "source": [
    "a = {\"name\" : \"sailesh\", \n",
    "     \"age\" : \"22\", \n",
    "     \"country\" : \"Nepal\",\n",
    "     \"gender\" : \"Male\"\n",
    "}\n",
    "a['age']=28\n",
    "a.update ({\"mail_id\" : \"saileshsingh402@gmail.com\"})\n",
    "print(a)"
   ]
  },
  {
   "cell_type": "code",
   "execution_count": 23,
   "id": "8a744b34",
   "metadata": {},
   "outputs": [
    {
     "name": "stdout",
     "output_type": "stream",
     "text": [
      "{'name': 'sailesh', 'country': 'Nepal', 'gender': 'Male'}\n"
     ]
    }
   ],
   "source": [
    "a = {\"name\" : \"sailesh\", \n",
    "     \"age\" : \"22\", \n",
    "     \"country\" : \"Nepal\",\n",
    "     \"gender\" : \"Male\"\n",
    "}\n",
    "a.pop(\"age\")\n",
    "print(a)"
   ]
  },
  {
   "cell_type": "code",
   "execution_count": 24,
   "id": "91e7b41b",
   "metadata": {},
   "outputs": [
    {
     "name": "stdout",
     "output_type": "stream",
     "text": [
      "{'name': 'sailesh', 'country': 'Nepal', 'gender': 'Male'}\n"
     ]
    }
   ],
   "source": [
    "a = {\"name\" : \"sailesh\", \n",
    "     \"age\" : \"22\", \n",
    "     \"country\" : \"Nepal\",\n",
    "     \"gender\" : \"Male\"\n",
    "}\n",
    "del a[\"age\"]\n",
    "print(a)"
   ]
  },
  {
   "cell_type": "code",
   "execution_count": 26,
   "id": "d30bba15",
   "metadata": {},
   "outputs": [
    {
     "name": "stdout",
     "output_type": "stream",
     "text": [
      "{}\n",
      "<class 'dict'>\n"
     ]
    }
   ],
   "source": [
    "a = {\"name\" : \"sailesh\", \n",
    "     \"age\" : \"22\", \n",
    "     \"country\" : \"Nepal\",\n",
    "     \"gender\" : \"Male\"\n",
    "}\n",
    "a.clear()\n",
    "print(a)\n",
    "print(type(a))"
   ]
  },
  {
   "cell_type": "code",
   "execution_count": 27,
   "id": "19e1e53f",
   "metadata": {},
   "outputs": [
    {
     "name": "stdout",
     "output_type": "stream",
     "text": [
      "{1: 10, 2: 20, 3: 30, 4: 40, 5: 50, 6: 60}\n"
     ]
    }
   ],
   "source": [
    "dict1 = {1:10, 2:20}\n",
    "dict2 = {3:30, 4:40}\n",
    "dict3 = {5:50, 6:60}\n",
    "dict4 = {}\n",
    "for d in (dict1,dict2,dict3) : dict4.update(d)\n",
    "print(dict4)\n",
    "    "
   ]
  },
  {
   "cell_type": "code",
   "execution_count": 28,
   "id": "a9c3ae44",
   "metadata": {},
   "outputs": [
    {
     "ename": "TypeError",
     "evalue": "'dict' object is not callable",
     "output_type": "error",
     "traceback": [
      "\u001b[1;31m---------------------------------------------------------------------------\u001b[0m",
      "\u001b[1;31mTypeError\u001b[0m                                 Traceback (most recent call last)",
      "Cell \u001b[1;32mIn[28], line 1\u001b[0m\n\u001b[1;32m----> 1\u001b[0m d \u001b[38;5;241m=\u001b[39m \u001b[38;5;28mdict\u001b[39m ()\n\u001b[0;32m      2\u001b[0m \u001b[38;5;28;01mfor\u001b[39;00m x \u001b[38;5;129;01min\u001b[39;00m \u001b[38;5;28mrange\u001b[39m(\u001b[38;5;241m1\u001b[39m,\u001b[38;5;241m16\u001b[39m):\n\u001b[0;32m      3\u001b[0m     d[x] \u001b[38;5;241m=\u001b[39m x\u001b[38;5;241m*\u001b[39m\u001b[38;5;241m*\u001b[39m\u001b[38;5;241m2\u001b[39m\n",
      "\u001b[1;31mTypeError\u001b[0m: 'dict' object is not callable"
     ]
    }
   ],
   "source": [
    "d = dict ()\n",
    "for x in range(1,16):\n",
    "    d[x] = x**2\n",
    "print(d)"
   ]
  },
  {
   "cell_type": "markdown",
   "id": "242adb16",
   "metadata": {},
   "source": [
    "# Q. Check whether a given key already exists in a dictionary"
   ]
  },
  {
   "cell_type": "code",
   "execution_count": 30,
   "id": "b27e0a28",
   "metadata": {},
   "outputs": [
    {
     "name": "stdout",
     "output_type": "stream",
     "text": [
      "Key is present in the dictionary\n",
      "Key is not present in the dictionary\n"
     ]
    }
   ],
   "source": [
    "d = {1 : 10, 2:20,3:30,4:40,5:50,6:60}\n",
    "def is_key_present(x):\n",
    "    if x in d:\n",
    "        print(\"Key is present in the dictionary\")\n",
    "    else:\n",
    "        print(\"Key is not present in the dictionary\")\n",
    "is_key_present(5)\n",
    "is_key_present(9)\n"
   ]
  },
  {
   "cell_type": "code",
   "execution_count": null,
   "id": "fc7a248e",
   "metadata": {},
   "outputs": [],
   "source": []
  }
 ],
 "metadata": {
  "kernelspec": {
   "display_name": "Python 3 (ipykernel)",
   "language": "python",
   "name": "python3"
  },
  "language_info": {
   "codemirror_mode": {
    "name": "ipython",
    "version": 3
   },
   "file_extension": ".py",
   "mimetype": "text/x-python",
   "name": "python",
   "nbconvert_exporter": "python",
   "pygments_lexer": "ipython3",
   "version": "3.11.5"
  }
 },
 "nbformat": 4,
 "nbformat_minor": 5
}
