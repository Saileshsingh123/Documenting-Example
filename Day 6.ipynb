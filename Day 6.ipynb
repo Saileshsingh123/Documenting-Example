{
 "cells": [
  {
   "cell_type": "markdown",
   "id": "6742ec54",
   "metadata": {},
   "source": [
    "# Day 6 "
   ]
  },
  {
   "cell_type": "markdown",
   "id": "a2e4ed38",
   "metadata": {},
   "source": [
    "# User defined Function in Python"
   ]
  },
  {
   "cell_type": "markdown",
   "id": "a5353861",
   "metadata": {},
   "source": [
    "# 1. Creating a used define function"
   ]
  },
  {
   "cell_type": "code",
   "execution_count": 7,
   "id": "00274481",
   "metadata": {},
   "outputs": [],
   "source": [
    "def my_function():\n",
    "    print(\"Hello\")\n",
    "    print(\"We are learning python\")"
   ]
  },
  {
   "cell_type": "markdown",
   "id": "5c8014aa",
   "metadata": {},
   "source": [
    "# 2. Calling a function"
   ]
  },
  {
   "cell_type": "code",
   "execution_count": 8,
   "id": "9ff52dd9",
   "metadata": {},
   "outputs": [
    {
     "name": "stdout",
     "output_type": "stream",
     "text": [
      "Hello\n",
      "We are learning python\n"
     ]
    }
   ],
   "source": [
    "my_function()"
   ]
  },
  {
   "cell_type": "markdown",
   "id": "b850e48e",
   "metadata": {},
   "source": [
    "Making the result of a studnet"
   ]
  },
  {
   "cell_type": "code",
   "execution_count": 1,
   "id": "b3588cd1",
   "metadata": {},
   "outputs": [
    {
     "name": "stdout",
     "output_type": "stream",
     "text": [
      "Name of the student sailesh\n",
      "Marks scorde in math 32\n",
      "Marks scorde in science 45\n",
      "Marks scorde in social 66\n",
      "\n",
      "Contact detail of the school \n",
      "Gyanodaya Bal Batika School \n",
      "9861437917 \n",
      "saileshsingh.402@gmail.com \n",
      "Name of the student ram\n",
      "Marks scorde in math 32\n",
      "Marks scorde in science 432\n",
      "Marks scorde in social 43\n",
      "\n",
      "Contact detail of the school \n",
      "Gyanodaya Bal Batika School \n",
      "9861437917 \n",
      "saileshsingh.402@gmail.com \n",
      "Name of the student hari\n",
      "Marks scorde in math 32\n",
      "Marks scorde in science 56\n",
      "Marks scorde in social 78\n",
      "\n",
      "Contact detail of the school \n",
      "Gyanodaya Bal Batika School \n",
      "9861437917 \n",
      "saileshsingh.402@gmail.com \n",
      "Name of the student krishna \n",
      "Marks scorde in math 23\n",
      "Marks scorde in science 56\n",
      "Marks scorde in social 78\n",
      "\n",
      "Contact detail of the school \n",
      "Gyanodaya Bal Batika School \n",
      "9861437917 \n",
      "saileshsingh.402@gmail.com \n"
     ]
    }
   ],
   "source": [
    "def contact():\n",
    "    print(\"Contact detail of the school \")\n",
    "    print(\"Gyanodaya Bal Batika School \")\n",
    "    print(\"9861437917 \")\n",
    "    print(\"saileshsingh.402@gmail.com \")\n",
    "for i in range(4):\n",
    "    a = input(\"Name of the student \")\n",
    "    b = int(input(\"Marks scorde in math \"))\n",
    "    c = int(input(\"Marks scorde in science \"))\n",
    "    d = int(input(\"Marks scorde in social \"))\n",
    "    print()\n",
    "    contact()"
   ]
  },
  {
   "cell_type": "markdown",
   "id": "0c429dbb",
   "metadata": {},
   "source": [
    "# 2. Arguments"
   ]
  },
  {
   "cell_type": "code",
   "execution_count": 6,
   "id": "dc647a8a",
   "metadata": {},
   "outputs": [
    {
     "name": "stdout",
     "output_type": "stream",
     "text": [
      "HARI Sharma\n",
      "pooja Sharma\n",
      "DIYA Sharma\n"
     ]
    }
   ],
   "source": [
    "def my_function(Fname):\n",
    "    print(Fname + \" \"+ \"Sharma\")\n",
    "my_function(\"HARI\")\n",
    "my_function(\"pooja\")\n",
    "my_function(\"DIYA\")"
   ]
  },
  {
   "cell_type": "code",
   "execution_count": 11,
   "id": "0af2d62c",
   "metadata": {},
   "outputs": [
    {
     "name": "stdout",
     "output_type": "stream",
     "text": [
      "Shreya Lama\n",
      "Hi I love you\n"
     ]
    }
   ],
   "source": [
    "def my_function(fname, lname):\n",
    "    print(fname + \" \" + lname)\n",
    "my_function(\"Shreya\",\"Lama\")\n",
    "my_function(\"Hi\", \"I love you\")"
   ]
  },
  {
   "cell_type": "code",
   "execution_count": null,
   "id": "bb219992",
   "metadata": {},
   "outputs": [],
   "source": [
    "#Write a program to calculate the electricity bill\n",
    "\n",
    "If 500 unit used - pay Rs 5 for each unit\n",
    "if 700 uint used - pay Rs 10 for each unit\n",
    "if 1000 unit used - pay Rs 15 for each unit\n",
    "if more than 1000 used - pay Rs 20 for each unit "
   ]
  },
  {
   "cell_type": "code",
   "execution_count": 2,
   "id": "9b375607",
   "metadata": {},
   "outputs": [
    {
     "name": "stdout",
     "output_type": "stream",
     "text": [
      "Enter name of customer Sailesh\n",
      "Enter the unit of electricity you have used450\n",
      "Your bill is Rs 2250\n",
      "\n",
      "Last day of paying bill is 20 April\n",
      "After 20 april you need to pay 1000 Rs as a fine\n",
      "Electricity office New Baneshwar\n",
      "Enter name of customer Suraj\n",
      "Enter the unit of electricity you have used700\n",
      "Your bill is Rs 7000\n",
      "\n",
      "Last day of paying bill is 20 April\n",
      "After 20 april you need to pay 1000 Rs as a fine\n",
      "Electricity office New Baneshwar\n",
      "Enter name of customer BHAIYAA\n",
      "Enter the unit of electricity you have used1000\n",
      "Your bill is Rs 15000\n",
      "\n",
      "Last day of paying bill is 20 April\n",
      "After 20 april you need to pay 1000 Rs as a fine\n",
      "Electricity office New Baneshwar\n"
     ]
    }
   ],
   "source": [
    "def electricity_bill(n):\n",
    "    if n<=500:\n",
    "        print(\"Your bill is Rs\", n*5)\n",
    "    elif n>500 and n<=700:\n",
    "        print(\"Your bill is Rs\", n*10)\n",
    "    elif n>700 and n<=1000:\n",
    "        print(\"Your bill is Rs\", n*15)\n",
    "    elif n>1000:\n",
    "        print(\"Your bill is Rs\", n *20)\n",
    "def instruction():\n",
    "    print(\"Last day of paying bill is 20 April\")\n",
    "    print(\"After 20 april you need to pay 1000 Rs as a fine\")\n",
    "    print(\"Electricity office New Baneshwar\")\n",
    "for i in range(3):\n",
    "    a = input(\"Enter name of customer \")\n",
    "    n = int(input(\"Enter the unit of electricity you have used\"))\n",
    "    electricity_bill(n)\n",
    "    print()\n",
    "    instruction()\n",
    "    "
   ]
  },
  {
   "cell_type": "code",
   "execution_count": null,
   "id": "ab877f7b",
   "metadata": {},
   "outputs": [],
   "source": []
  }
 ],
 "metadata": {
  "kernelspec": {
   "display_name": "Python 3 (ipykernel)",
   "language": "python",
   "name": "python3"
  },
  "language_info": {
   "codemirror_mode": {
    "name": "ipython",
    "version": 3
   },
   "file_extension": ".py",
   "mimetype": "text/x-python",
   "name": "python",
   "nbconvert_exporter": "python",
   "pygments_lexer": "ipython3",
   "version": "3.11.5"
  }
 },
 "nbformat": 4,
 "nbformat_minor": 5
}
