{
 "cells": [
  {
   "cell_type": "markdown",
   "id": "cbe6b3c4",
   "metadata": {},
   "source": [
    "# SET"
   ]
  },
  {
   "cell_type": "markdown",
   "id": "30e491da",
   "metadata": {},
   "source": [
    "# 1. Creating a set"
   ]
  },
  {
   "cell_type": "code",
   "execution_count": 7,
   "id": "517eaaf4",
   "metadata": {},
   "outputs": [
    {
     "name": "stdout",
     "output_type": "stream",
     "text": [
      "{'blue', 'ball', 'cat'}\n",
      "<class 'set'>\n"
     ]
    }
   ],
   "source": [
    "a = {\"blue\" , \"ball\" ,\"cat\"}\n",
    "print(a)\n",
    "print(type(a))\n"
   ]
  },
  {
   "cell_type": "markdown",
   "id": "4e7f4551",
   "metadata": {},
   "source": [
    "# 2. Set ITEMS are unordered"
   ]
  },
  {
   "cell_type": "code",
   "execution_count": 6,
   "id": "8832c89f",
   "metadata": {},
   "outputs": [
    {
     "ename": "TypeError",
     "evalue": "'set' object is not subscriptable",
     "output_type": "error",
     "traceback": [
      "\u001b[1;31m---------------------------------------------------------------------------\u001b[0m",
      "\u001b[1;31mTypeError\u001b[0m                                 Traceback (most recent call last)",
      "Cell \u001b[1;32mIn[6], line 2\u001b[0m\n\u001b[0;32m      1\u001b[0m a \u001b[38;5;241m=\u001b[39m {\u001b[38;5;124m\"\u001b[39m\u001b[38;5;124manimal\u001b[39m\u001b[38;5;124m\"\u001b[39m , \u001b[38;5;124m\"\u001b[39m\u001b[38;5;124mball\u001b[39m\u001b[38;5;124m\"\u001b[39m ,\u001b[38;5;124m\"\u001b[39m\u001b[38;5;124mcat\u001b[39m\u001b[38;5;124m\"\u001b[39m}\n\u001b[1;32m----> 2\u001b[0m \u001b[38;5;28mprint\u001b[39m(a[\u001b[38;5;241m1\u001b[39m])\n",
      "\u001b[1;31mTypeError\u001b[0m: 'set' object is not subscriptable"
     ]
    }
   ],
   "source": [
    "a = {\"animal\" , \"ball\" ,\"cat\"}\n",
    "print(a[1]) - Un-indexing"
   ]
  },
  {
   "cell_type": "markdown",
   "id": "8373baac",
   "metadata": {},
   "source": [
    "# 3. Duplicates not allowed"
   ]
  },
  {
   "cell_type": "code",
   "execution_count": 9,
   "id": "facd975d",
   "metadata": {},
   "outputs": [
    {
     "name": "stdout",
     "output_type": "stream",
     "text": [
      "{'animals', 'ball', 'cat'}\n"
     ]
    }
   ],
   "source": [
    "a = {\"animals\" , \"ball\" ,\"cat\" , \"animals\" ,\"ball\",\"ball\"}\n",
    "print(a)"
   ]
  },
  {
   "cell_type": "markdown",
   "id": "ef79acb9",
   "metadata": {},
   "source": [
    "# 4. TRUE and 1 is consider the same value "
   ]
  },
  {
   "cell_type": "code",
   "execution_count": 10,
   "id": "f8c6ee1e",
   "metadata": {},
   "outputs": [
    {
     "name": "stdout",
     "output_type": "stream",
     "text": [
      "{1, 2, 3, 'animals', 'ball', 'cat'}\n"
     ]
    }
   ],
   "source": [
    "a = {\"animals\" , \"ball\" ,\"cat\" , \"animals\" ,\"ball\",\"ball\" ,1,2,3, True}\n",
    "print(a)\n"
   ]
  },
  {
   "cell_type": "markdown",
   "id": "2d10fcae",
   "metadata": {},
   "source": [
    "# 5. Get the length of a set"
   ]
  },
  {
   "cell_type": "code",
   "execution_count": 12,
   "id": "9648b25f",
   "metadata": {},
   "outputs": [
    {
     "name": "stdout",
     "output_type": "stream",
     "text": [
      "6\n",
      "{1, 2, 3, 'animals', 'ball', 'cat'}\n"
     ]
    }
   ],
   "source": [
    "a = {\"animals\" , \"ball\" ,\"cat\" , \"animals\" ,\"ball\",\"ball\" ,1,2,3, True}\n",
    "print(len(a))\n",
    "print(a)"
   ]
  },
  {
   "cell_type": "markdown",
   "id": "a73d21d6",
   "metadata": {},
   "source": [
    "# 6. Set items - Data types\n"
   ]
  },
  {
   "cell_type": "code",
   "execution_count": 14,
   "id": "0adba1ca",
   "metadata": {},
   "outputs": [
    {
     "name": "stdout",
     "output_type": "stream",
     "text": [
      "{1, 2, 3, 4} {1.2, 2.4, 2.5, 4.5} {'c', 'b', 'a'} {False, True}\n"
     ]
    }
   ],
   "source": [
    "x1 = {1,2,3,4}\n",
    "x2 = {1.2,2.4,2.5,4.5}\n",
    "x3 = {\"a\",\"b\",\"c\"}\n",
    "x4 = {True, False , True}\n",
    "print(x1,x2,x3,x4)"
   ]
  },
  {
   "cell_type": "code",
   "execution_count": 15,
   "id": "04a8bc5d",
   "metadata": {},
   "outputs": [
    {
     "ename": "TypeError",
     "evalue": "unhashable type: 'list'",
     "output_type": "error",
     "traceback": [
      "\u001b[1;31m---------------------------------------------------------------------------\u001b[0m",
      "\u001b[1;31mTypeError\u001b[0m                                 Traceback (most recent call last)",
      "Cell \u001b[1;32mIn[15], line 1\u001b[0m\n\u001b[1;32m----> 1\u001b[0m x5 \u001b[38;5;241m=\u001b[39m {[\u001b[38;5;241m1\u001b[39m,\u001b[38;5;241m2\u001b[39m,\u001b[38;5;241m3\u001b[39m,\u001b[38;5;241m4\u001b[39m]}\n\u001b[0;32m      2\u001b[0m \u001b[38;5;28mprint\u001b[39m(x5)\n",
      "\u001b[1;31mTypeError\u001b[0m: unhashable type: 'list'"
     ]
    }
   ],
   "source": [
    "x5 = {[1,2,3,4]}\n",
    "print(x5)"
   ]
  },
  {
   "cell_type": "code",
   "execution_count": 16,
   "id": "4e176937",
   "metadata": {},
   "outputs": [
    {
     "name": "stdout",
     "output_type": "stream",
     "text": [
      "{(1, 2, 3, 4)}\n"
     ]
    }
   ],
   "source": [
    "x5 = {(1,2,3,4)}\n",
    "print(x5)"
   ]
  },
  {
   "cell_type": "code",
   "execution_count": 17,
   "id": "9ba40eeb",
   "metadata": {},
   "outputs": [
    {
     "ename": "TypeError",
     "evalue": "unhashable type: 'dict'",
     "output_type": "error",
     "traceback": [
      "\u001b[1;31m---------------------------------------------------------------------------\u001b[0m",
      "\u001b[1;31mTypeError\u001b[0m                                 Traceback (most recent call last)",
      "Cell \u001b[1;32mIn[17], line 1\u001b[0m\n\u001b[1;32m----> 1\u001b[0m x6 \u001b[38;5;241m=\u001b[39m {{\u001b[38;5;124m\"\u001b[39m\u001b[38;5;124ma\u001b[39m\u001b[38;5;124m\"\u001b[39m:\u001b[38;5;241m1\u001b[39m,\u001b[38;5;124m\"\u001b[39m\u001b[38;5;124mb\u001b[39m\u001b[38;5;124m\"\u001b[39m:\u001b[38;5;241m2\u001b[39m}}\n\u001b[0;32m      2\u001b[0m \u001b[38;5;28mprint\u001b[39m(x6)\n",
      "\u001b[1;31mTypeError\u001b[0m: unhashable type: 'dict'"
     ]
    }
   ],
   "source": [
    "x6 = {{\"a\":1,\"b\":2}}\n",
    "print(x6)"
   ]
  },
  {
   "cell_type": "code",
   "execution_count": 18,
   "id": "aa0988a7",
   "metadata": {},
   "outputs": [
    {
     "ename": "TypeError",
     "evalue": "unhashable type: 'set'",
     "output_type": "error",
     "traceback": [
      "\u001b[1;31m---------------------------------------------------------------------------\u001b[0m",
      "\u001b[1;31mTypeError\u001b[0m                                 Traceback (most recent call last)",
      "Cell \u001b[1;32mIn[18], line 1\u001b[0m\n\u001b[1;32m----> 1\u001b[0m a \u001b[38;5;241m=\u001b[39m {{\u001b[38;5;241m1\u001b[39m,\u001b[38;5;241m2\u001b[39m,\u001b[38;5;241m3\u001b[39m},{\u001b[38;5;241m4\u001b[39m,\u001b[38;5;241m5\u001b[39m,\u001b[38;5;241m6\u001b[39m}}\n\u001b[0;32m      2\u001b[0m \u001b[38;5;28mprint\u001b[39m(a)\n",
      "\u001b[1;31mTypeError\u001b[0m: unhashable type: 'set'"
     ]
    }
   ],
   "source": [
    "a = {{1,2,3},{4,5,6}}\n",
    "print(a)"
   ]
  },
  {
   "cell_type": "markdown",
   "id": "0c2f9aa1",
   "metadata": {},
   "source": [
    "# 7. The set () constructor"
   ]
  },
  {
   "cell_type": "code",
   "execution_count": 20,
   "id": "00f50293",
   "metadata": {},
   "outputs": [
    {
     "name": "stdout",
     "output_type": "stream",
     "text": [
      "{'beta', 'alpha', 'gamma'}\n",
      "<class 'set'>\n"
     ]
    }
   ],
   "source": [
    "thisset = set((\"alpha\",\"beta\",\"gamma\"))\n",
    "print(thisset)\n",
    "print(type(thisset))"
   ]
  },
  {
   "cell_type": "markdown",
   "id": "cd3d6c9c",
   "metadata": {},
   "source": [
    "# 8. Creating Empty set"
   ]
  },
  {
   "cell_type": "code",
   "execution_count": 21,
   "id": "e7394381",
   "metadata": {},
   "outputs": [
    {
     "name": "stdout",
     "output_type": "stream",
     "text": [
      "{}\n",
      "<class 'dict'>\n"
     ]
    }
   ],
   "source": [
    "a = {}\n",
    "print(a)\n",
    "print(type(a))"
   ]
  },
  {
   "cell_type": "code",
   "execution_count": 22,
   "id": "8f11f83a",
   "metadata": {},
   "outputs": [
    {
     "name": "stdout",
     "output_type": "stream",
     "text": [
      "set()\n",
      "<class 'set'>\n"
     ]
    }
   ],
   "source": [
    "empty = set()\n",
    "print(empty)\n",
    "print(type(empty))"
   ]
  },
  {
   "cell_type": "markdown",
   "id": "784f91da",
   "metadata": {},
   "source": [
    "# 9 . ACCEESS ITEM"
   ]
  },
  {
   "cell_type": "code",
   "execution_count": 25,
   "id": "c73f4392",
   "metadata": {},
   "outputs": [
    {
     "name": "stdout",
     "output_type": "stream",
     "text": [
      "c\n",
      "b\n",
      "a\n",
      "d\n"
     ]
    }
   ],
   "source": [
    "a = {\"a\",\"b\",\"c\",\"d\"}\n",
    "\n",
    "for x in a:\n",
    "    print(x)"
   ]
  },
  {
   "cell_type": "markdown",
   "id": "7c738ae3",
   "metadata": {},
   "source": [
    "# 10. Check if \" ITEM \" is present in the set"
   ]
  },
  {
   "cell_type": "code",
   "execution_count": 26,
   "id": "4a0e9bac",
   "metadata": {},
   "outputs": [
    {
     "name": "stdout",
     "output_type": "stream",
     "text": [
      "True\n"
     ]
    }
   ],
   "source": [
    "a = {\"data\", \"python\",\"code\"}\n",
    "print(\"code\" in a )"
   ]
  },
  {
   "cell_type": "code",
   "execution_count": 27,
   "id": "b5c34d0e",
   "metadata": {},
   "outputs": [
    {
     "name": "stdout",
     "output_type": "stream",
     "text": [
      "False\n"
     ]
    }
   ],
   "source": [
    "a = {\"data\", \"python\",\"code\"}\n",
    "print(\"analyst\" in a )"
   ]
  },
  {
   "cell_type": "markdown",
   "id": "714e3f07",
   "metadata": {},
   "source": [
    "# 11. ADD ITEM "
   ]
  },
  {
   "cell_type": "code",
   "execution_count": 28,
   "id": "440305f5",
   "metadata": {},
   "outputs": [
    {
     "name": "stdout",
     "output_type": "stream",
     "text": [
      "{100, 'c', 'b', 'd', 'a'}\n"
     ]
    }
   ],
   "source": [
    "a = {\"a\",\"b\",\"c\",\"d\"}\n",
    "a.add(100)\n",
    "print(a)"
   ]
  },
  {
   "cell_type": "code",
   "execution_count": 31,
   "id": "ca5e7f73",
   "metadata": {},
   "outputs": [
    {
     "name": "stdout",
     "output_type": "stream",
     "text": [
      "{70, 40, 10, 'data', 50, 20, 'code', 'python', 60, 30}\n"
     ]
    }
   ],
   "source": [
    "x = {\"data\",\"python\",\"code\"}\n",
    "y = {10,20,30,40,50,60,70}\n",
    "x.update(y)\n",
    "print(x)"
   ]
  },
  {
   "cell_type": "markdown",
   "id": "2101fc8b",
   "metadata": {},
   "source": [
    "# 12. REMOVE SET ITEMS "
   ]
  },
  {
   "cell_type": "code",
   "execution_count": 35,
   "id": "5a6eb7b6",
   "metadata": {},
   "outputs": [
    {
     "name": "stdout",
     "output_type": "stream",
     "text": [
      "{10, 'data', 50, 20, 'code', 60, 30}\n"
     ]
    }
   ],
   "source": [
    "n ={70, 40, 10, 'data', 50, 20, 'code', 'python', 60, 30}\n",
    "n.remove(40)\n",
    "n.remove(\"python\")\n",
    "n.pop()\n",
    "print(n)"
   ]
  },
  {
   "cell_type": "markdown",
   "id": "a26e3e83",
   "metadata": {},
   "source": [
    "# 13. Join two sets\n"
   ]
  },
  {
   "cell_type": "code",
   "execution_count": 36,
   "id": "0e63fbc6",
   "metadata": {},
   "outputs": [
    {
     "name": "stdout",
     "output_type": "stream",
     "text": [
      "{1, 2, 3, 'b', 'c', 'a'}\n"
     ]
    }
   ],
   "source": [
    "x = {\"a\",\"b\",\"c\"}\n",
    "y ={1,2,3}\n",
    "z = x.union(y)\n",
    "print(z)"
   ]
  },
  {
   "cell_type": "markdown",
   "id": "878b4aca",
   "metadata": {},
   "source": [
    "# Q. Write a python program to find max and min values"
   ]
  },
  {
   "cell_type": "code",
   "execution_count": 37,
   "id": "52a62729",
   "metadata": {},
   "outputs": [
    {
     "name": "stdout",
     "output_type": "stream",
     "text": [
      "Original set elements\n",
      "{2, 3, 20, 5, 10, 15}\n",
      "Maximum value of the set is\n",
      "20\n",
      "Minimum value of the set is \n",
      "2\n"
     ]
    }
   ],
   "source": [
    "setn = {5,10,3,15,2,20}\n",
    "print(\"Original set elements\")\n",
    "print(setn)\n",
    "print(\"Maximum value of the set is\")\n",
    "print(max(setn))\n",
    "print(\"Minimum value of the set is \")\n",
    "print(min(setn))"
   ]
  },
  {
   "cell_type": "markdown",
   "id": "5969a321",
   "metadata": {},
   "source": [
    "# Return a new set of identical items from two sets "
   ]
  },
  {
   "cell_type": "code",
   "execution_count": 38,
   "id": "20157fd5",
   "metadata": {},
   "outputs": [
    {
     "name": "stdout",
     "output_type": "stream",
     "text": [
      "{40, 50, 30}\n"
     ]
    }
   ],
   "source": [
    "set1 = {10,20,30,40,50}\n",
    "set2 = {30,40,50,60,70}\n",
    "print(set1.intersection(set2))"
   ]
  },
  {
   "cell_type": "code",
   "execution_count": null,
   "id": "e6a2108e",
   "metadata": {},
   "outputs": [],
   "source": []
  }
 ],
 "metadata": {
  "kernelspec": {
   "display_name": "Python 3 (ipykernel)",
   "language": "python",
   "name": "python3"
  },
  "language_info": {
   "codemirror_mode": {
    "name": "ipython",
    "version": 3
   },
   "file_extension": ".py",
   "mimetype": "text/x-python",
   "name": "python",
   "nbconvert_exporter": "python",
   "pygments_lexer": "ipython3",
   "version": "3.11.5"
  }
 },
 "nbformat": 4,
 "nbformat_minor": 5
}
